{
 "cells": [
  {
   "cell_type": "markdown",
   "metadata": {},
   "source": [
    "# Title\n",
    "<!-- In principle, only ONE line -->\n",
    "\n",
    "**Question**: What main question does this topic answer?\n",
    "\n",
    "```{admonition} Objectives\n",
    "- Objective 1\n",
    "```\n",
    "\n",
    "Intro paragraph.\n",
    "\n",
    "\n",
    "## Section\n",
    "\n",
    "### subsection\n",
    "\n",
    "\n"
   ]
  },
  {
   "cell_type": "markdown",
   "metadata": {},
   "source": [
    "### Exercises\n",
    "\n",
    "min 3 max 5\n",
    "\n",
    "## Quiz\n",
    "\n",
    "_Not for now. To finish in the next cycle._ Complete [Quiz](https://forms.gle/8Q5Z7Z7Z7Z7Z7Z7Z7) to check your understanding of this topic. You are advised to score at least 50% to proceed to the next topic.\n",
    "\n",
    "## Summary\n",
    "\n",
    "In this topic, you learned how to:\n",
    "- Use ...\n",
    "\n",
    "## References and further reading\n",
    "\n",
    "This material is based on the following resources:\n",
    "- Reference 1"
   ]
  }
 ],
 "metadata": {
  "kernelspec": {
   "display_name": "Python 3.9.1 64-bit",
   "language": "python",
   "name": "python3"
  },
  "language_info": {
   "codemirror_mode": {
    "name": "ipython",
    "version": 3
   },
   "file_extension": ".py",
   "mimetype": "text/x-python",
   "name": "python",
   "nbconvert_exporter": "python",
   "pygments_lexer": "ipython3",
   "version": "3.9.12"
  },
  "vscode": {
   "interpreter": {
    "hash": "1bda8b49161908208a6e3087b59be7e64a5f9b1866581a6eaef662e2ef65b61a"
   }
  }
 },
 "nbformat": 4,
 "nbformat_minor": 2
}
