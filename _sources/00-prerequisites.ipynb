{
 "cells": [
  {
   "cell_type": "markdown",
   "metadata": {},
   "source": [
    "# Prerequisites\n",
    "\n",
    "<!-- **Question**: What do you need to know before starting this course? -->\n",
    "\n",
    "```{admonition} Objectives\n",
    "- Understand basic mathematical concepts required for this course\n",
    "- Write computer programs in Python\n",
    "- Compute with `NumPy` arrays\n",
    "- Analyse tabular data using `pandas`\n",
    "- Plot data using `matplotlib`\n",
    "```\n",
    "\n",
    "**Expected time to complete**: 3 hours\n",
    "\n",
    "This pre-course material is designed to help you get up to speed with the basic mathematical concepts and programming skills that you will need to complete the course. It is not a substitute for a full course in either mathematics or programming, but it should be enough to get you started.\n",
    "\n",
    "## Linear algebra and notations\n",
    "\n",
    "This section introduces the basic concepts of linear algebra and notations used in this course. The concepts are introduced in a self-contained manner, and you can skip this section if you are already familiar with the concepts. \n",
    "\n",
    "### Scalars, vectors, and matrices\n",
    "\n",
    "- Scalars: a scalar is a single number. In this course, if not specified, scalers are denoted by lowercase letters, e.g. $x = 3.14$. When introducing a scaler, we will specify its type, e.g. $x \\in \\mathbb{R}$, where $\\mathbb{R}$ is the set of real numbers.\n",
    "- Vectors: a vector is an array of numbers, which are arranged in order. Usually we denote vectors as lowercase letters in bold, e.g. \n",
    "  \n",
    "  $$\n",
    "    \\mathbf{x} = \\left[ \\begin{array}{c c c c c} x_1 , x_2 , \\dots , x_n \\end{array}\\right]^\\top,\n",
    "  $$\n",
    "  \n",
    "  where the superscript $^\\top$ denotes a common vector/matrix operation transpose, which flips the row and column, e.g. $\\begin{bmatrix} x_1 \\\\ x_2 \\end{bmatrix}^\\top = \\begin{bmatrix} x_1, x_2 \\end{bmatrix}$, and $\\begin{bmatrix} x_1, x_2 \\end{bmatrix}^\\top = \\begin{bmatrix} x_1 \\\\ x_2 \\end{bmatrix}$. The elements of a vector can be accessed by their index, and denoted as a scaler with a subscript, e.g. $x_1$ is the first element of $\\mathbf{x}$. We can also index a set of elements of a vector. For example, we can define the set $ S = \\{2, 4\\} $ and then access the 2nd and 4th elements of $\\mathbf{x}$ by $S$, i.e. $\\mathbf{x}_S = \\begin{bmatrix} x_2, x_4 \\end{bmatrix}^\\top $. We can also index a set of elements of a vector by a boolean array, e.g. $\\mathbf{x}_{\\mathbf{b}} = \\begin{bmatrix} x_1, x_3 \\end{bmatrix}^\\top $, where $\\mathbf{b} = \\begin{bmatrix} \\text{True}, \\text{False}, \\text{True}, \\dots, \\text{False} \\end{bmatrix}^\\top $. When introducing a vector, we will specify its type, e.g. if each element in $\\mathbf{x}$ is in $\\mathbb{R}$, we can say $\\mathbf{x} \\in \\mathbb{R}^n$, where $\\mathbb{R}^n$ is the set of $n$-dimensional real vectors.\n",
    "\n",
    "<!-- Sometimes we need to index the elements of a vector by their position, e.g. $x_1$ is the first element of $\\mathbf{x}$, $x_2$ is the second element of $\\mathbf{x}$, and so on. In this case, we can use the following notations: -->\n",
    "\n",
    "- Matrices: a matrix is a 2D array of numbers. Typically we denote matrices as uppercase letters in bold, e.g. \n",
    "  \n",
    "  <!-- $$\n",
    "    \\mathbf{X} = \\begin{bmatrix} x_{1,1} & x_{1,2} & x_{1,3} \\\\ x_{2,1} & x_{2,2} & x_{2,3} \\end{bmatrix}.\n",
    "  $$  -->\n",
    "  $$\n",
    "    \\mathbf{X} = \\begin{bmatrix} x_{1,1} & x_{1,2}, & x_{1,3} \\\\ x_{2,1} & x_{2,2} & x_{2,3} \\end{bmatrix}.\n",
    "  $$ \n",
    "  \n",
    "  If a real valued matrix $\\mathbf{X}$ has $m$ rows and $n$ columns, we can say $\\mathbf{X} \\in \\mathbb{R}^{m \\times n}$. \n",
    "   <!-- We can also index a set of elements of a matrix. For example, we can define the set $ S = {2, 4} $ and then access the 2nd and 4th rows of $\\mathbf{X}$ by $S$, i.e. $\\mathbf{X}_S = \\begin{bmatrix} x_{2,1} & x_{2,2} & x_{2,3} \\\\ x_{4,1} & x_{4,2} & x_{4,3} \\end{bmatrix}$. We can also index a set of elements of a matrix by a boolean array, e.g. $\\mathbf{X}_{\\mathbf{b}} = \\begin{bmatrix} x_{1,1} & x_{1,2} & x_{1,3} \\\\ x_{3,1} & x_{3,2} & x_{3,3} \\end{bmatrix}$, where $\\mathbf{b} = \\begin{bmatrix} True \\\\ False \\\\ True \\\\ \\vdots\\\\ False \\end{bmatrix}$.  -->  \n",
    "   We usually identify an element of a matrix as a scaler with its row and column indices, e.g. $x_{2,3}$ is the element in the 2nd row and 3rd column of $\\mathbf{X}$. We can also access an entire row of a matrix by writing \":\" for the coordinate of columns, e.g. $\\mathbf{x}_{2, :}$ is the 2nd row of $\\mathbf{X}$. We can also access columns of a matrix in the same way, e.g.,  $\\mathbf{x}_{:,3}$ is the 3rd column of $\\mathbf{X}$. The transpose of a matrix flips the rows and columns along the diagonal, e.g.\n",
    "\n",
    "   $$\n",
    "    \\begin{bmatrix} 1 & 2 \\\\ 3 & 4 \\end{bmatrix}^\\top = \\begin{bmatrix} 1 & 3 \\\\ 2 & 4 \\end{bmatrix}.\n",
    "   $$\n",
    "<!-- - Tensors: a tensor is an array of numbers arranged on a regular grid with a variable number of axes, e.g. $$\\mathbf{X} = \\begin{bmatrix} x_{1,1,1} & x_{1,1,2} & x_{1,1,3} \\\\ x_{1,2,1} & x_{1,2,2} & x_{1,2,3} \\\\ x_{1,3,1} & x_{1,3,2} & x_{1,3,3} \\end{bmatrix}.$$ -->\n",
    "\n"
   ]
  },
  {
   "cell_type": "markdown",
   "metadata": {},
   "source": [
    "### Operations on matrices\n",
    "\n",
    "- A matrix $\\mathbf{X}$ can be multiplied by a scaler $\\alpha$ or add a scaler to a matrix: \n",
    "\n",
    "  $$\n",
    "    (\\alpha\\mathbf{X})_{i, j}  =  \\alpha x_{i,j}, \\text{ and } (\\mathbf{X} + \\alpha)_{i, j}  =  x_{i,j} + \\alpha.\n",
    "  $$\n",
    "\n",
    "- Addition and subtraction: we can add or subtract two matrices with the same shape. The result is that all corresponding entries are added, i.e. \n",
    "  \n",
    "  $$\n",
    "    (\\mathbf{X} + \\mathbf{Y})_{i, j} = x_{i, j} + y_{i, j}.\n",
    "  $$\n",
    " \n",
    " - Matrix multiplication: If the number of columns of matrix $\\mathbf{X}$ is equal to the number of rows of matrix $\\mathbf{Y}$, the matrices can be multiplied in the order $\\mathbf{X}$, $\\mathbf{Y}$. The result will be a new matrix $\\mathbf{XY}$, that has the same number of rows as $\\mathbf{X}$ and the same number of columns as $\\mathbf{Y}$. The entries $\\mathbf{XY}_{i,j}$ will be the following combination of the entries of row $i$ of $\\mathbf{X}$ and column $j$ of $\\mathbf{Y}$, i.e.\n",
    "\n",
    "  $$\n",
    "    \\mathbf{XY}_{i,j} = \\sum_{k=1}^n x_{i,k} y_{k,j}.\n",
    "  $$\n",
    "\n",
    "  - Element-wise multiplication: we can also multiply two matrices with the same shape element-wise, i.e.\n",
    "\n",
    "  $$\n",
    "    (\\mathbf{X} \\odot \\mathbf{Y})_{i, j} = x_{i, j} y_{i, j},\n",
    "  $$\n",
    "\n",
    "  where $\\odot$ is the symbol for element-wise multiplication, and $\\mathbf{X} \\odot \\mathbf{Y}$ is also called the Hadamard product of $\\mathbf{X}$ and $\\mathbf{Y}$. \n",
    "\n",
    "\n",
    "**Examples**\n",
    "\n",
    "- The multiplication of a number and a matrix\n",
    "  \n",
    "  $$\n",
    "    2  \\begin{bmatrix} 1 & 2 \\\\ 3 & 4 \\end{bmatrix} = \\begin{bmatrix} 2 \\times 1 & 2 \\times 2 \\\\ 2 \\times 3 & 2 \\times 4 \\end{bmatrix} = \\begin{bmatrix} 2 & 4 \\\\ 6 & 8 \\end{bmatrix}.\n",
    "  $$\n",
    "\n",
    "- The sum of two matrices of the same shape\n",
    "   \n",
    "  $$\n",
    "    \\begin{bmatrix} 1 & 2 \\\\ 3 & 4 \\end{bmatrix} + \\begin{bmatrix} 5 & 6 \\\\ 7 & 8 \\end{bmatrix} = \\begin{bmatrix} 1 + 5 & 2 + 6 \\\\ 3 + 7 & 4 + 8 \\end{bmatrix} = \\begin{bmatrix} 6 & 8 \\\\ 10 & 12 \\end{bmatrix}.\n",
    "  $$\n",
    "\n",
    "- The multiplication of two matrices:\n",
    "\n",
    "  $$\n",
    "    \\begin{bmatrix} 1 & 2 \\\\ 3 & 4 \\end{bmatrix} \\begin{bmatrix} 5 & 6 & 7 \\\\ 8 & 9 & 10 \\end{bmatrix} = \\begin{bmatrix} 1 \\times 5 + 2 \\times 8 & 1 \\times 6 + 2 \\times 9 & 1 \\times 7 + 2 \\times 10 \\\\ 3 \\times 5 + 4 \\times 8 & 3 \\times 6 + 4 \\times 9 & 3 \\times 7 + 4 \\times 10 \\end{bmatrix} = \\begin{bmatrix} 21 & 24 & 27 \\\\ 47 & 54 & 61 \\end{bmatrix}.\n",
    "  $$\n",
    "\n",
    "\n",
    "**Some properties of matrix multiplication:**\n",
    "\n",
    "- $(\\mathbf{X}^\\top)^\\top = \\mathbf{X}$.\n",
    "- $(\\mathbf{X} \\mathbf{Y})^\\top = \\mathbf{Y}^\\top \\mathbf{X}^\\top$.\n",
    "- $(\\mathbf{X} + \\mathbf{Y})^\\top = \\mathbf{X}^\\top + \\mathbf{Y}^\\top$.\n",
    "- $\\mathbf{X} \\mathbf{I} = \\mathbf{I} \\mathbf{X} = \\mathbf{X}$, where $\\mathbf{I}$ is the identity matrix.\n",
    "- $\\mathbf{X} \\mathbf{Y} = \\mathbf{Y} \\mathbf{X}$ if $\\mathbf{X}$ and $\\mathbf{Y}$ are square matrices.\n",
    "- $(\\alpha \\mathbf{X}) \\mathbf{Y} = \\alpha (\\mathbf{X} \\mathbf{Y})$.\n",
    "- $\\mathbf{X} (\\mathbf{Y} \\mathbf{Z}) = (\\mathbf{X} \\mathbf{Y}) \\mathbf{Z}$.\n",
    "- $\\mathbf{X} (\\mathbf{Y} + \\mathbf{Z}) = \\mathbf{X} \\mathbf{Y} + \\mathbf{X} \\mathbf{Z}$.\n",
    "  \n",
    "\n",
    "### Special matrices\n",
    "\n",
    "- **Diagonal** matrices contain non-zero elements only on the diagonal, i.e. $x_{i,j} = 0$ for $i \\neq j$. For example, the following matrix is a diagonal matrix:\n",
    "\n",
    "  $$\n",
    "    \\begin{bmatrix} 1 & 0 & 0 \\\\ 0 & 2 & 0 \\\\ 0 & 0 & 3 \\end{bmatrix}.\n",
    "  $$\n",
    "\n",
    "  All diagonal matrices are square.\n",
    "\n",
    "- **Identity** matrices are special diagonal matrices with ones on the diagonal and zeros elsewhere, i.e. $x_{i,j} = 1$ for $i = j$ and $x_{i,j} = 0$ for $i \\neq j$. For example, the following matrix is an identity matrix:\n",
    "  \n",
    "  $$\n",
    "    \\begin{bmatrix} 1 & 0 & 0 \\\\ 0 & 1 & 0 \\\\ 0 & 0 & 1 \\end{bmatrix}.\n",
    "  $$\n",
    "\n",
    "- **Symmetric** matrices are square matrices that are equal to their transpose, i.e. $\\mathbf{X} = \\mathbf{X}^\\top$, or $\\mathbf{X}_{i,j} = \\mathbf{X}_{j, i}$. For example, the following matrix is a symmetric matrix:\n",
    "  \n",
    "  $$\n",
    "    \\begin{bmatrix} 1 & 2 & 3 \\\\ 2 & 4 & 5 \\\\ 3 & 5 & 6 \\end{bmatrix}.\n",
    "  $$\n",
    "\n",
    "- **Inverse** matrices are square matrices that can be multiplied with another matrix to yield the identity matrix. The inverse matrix of a matrix $\\mathbf{X}$ is denoted as $\\mathbf{X}^{-1}$, and according to the definition $\\mathbf{X} \\mathbf{X}^{-1} = \\mathbf{X}^{-1} \\mathbf{X} = \\mathbf{I}$. The inverse matrix of an identity matrix is itself, e.g.\n",
    "  \n",
    "  $$\n",
    "    \\begin{bmatrix} 1 & 0 & 0 \\\\ 0 & 1 & 0 \\\\ 0 & 0 & 1 \\end{bmatrix}^{-1} = \\begin{bmatrix} 1 & 0 & 0 \\\\ 0 & 1 & 0 \\\\ 0 & 0 & 1 \\end{bmatrix}.\n",
    "  $$\n",
    "\n",
    "- An **Orthogonal** matrix is a square matrix whose columns are mutually orthogonal and have unit length, i.e. $\\mathbf{X}^\\top \\mathbf{X} = \\mathbf{X} \\mathbf{X}^\\top = \\mathbf{I}$, where $\\mathbf{I}$ is the identity matrix."
   ]
  },
  {
   "cell_type": "markdown",
   "metadata": {},
   "source": [
    "### Exercises\n",
    "\n",
    "min 3 max 5"
   ]
  },
  {
   "cell_type": "markdown",
   "metadata": {},
   "source": [
    "## Basic python programming\n",
    "\n",
    "**Running**\n",
    "\n",
    "Following the .gif below, click the rocket symbol (<i class=\"fas fa-rocket\"></i>) to launch this page as an interactive notebook in Google Colab (faster but requiring a Google account) or Binder.\n",
    "\n",
    "\n",
    "![Alt Text](https://source-separation.github.io/tutorial/_images/run_cloud.gif)\n",
    "<!-- \n",
    "https://youtu.be/seKOq-VMJgY?t=1082 -->\n",
    "\n",
    "Click the `Run Cell` button or press the keyboard shortcut `Ctrl`+`Enter` to execute the code in a cell.\n",
    "\n",
    "\n",
    "### Variable and expressions\n",
    "\n",
    "#### Creating variables\n",
    "\n",
    "- In Python variables are names to store values. \n",
    "- The `=` symbol assigns the value on the right to the name on the left.\n",
    "- The variable is created when a value is assigned to it.    \n",
    "- Variable Naming ([click to learn more about Python naming convention](https://namingconvention.org/python/))\n",
    "  - can only contain letters, digits, and underscore _ (typically used to separate words in long variable names)\n",
    "  - cannot start with a digit\n",
    "  - are case sensitive (age, Age and AGE are three different variables)\n",
    "\n",
    "Try the following code in the cell below to assign `1` to a variable `x` and `\"hello world\"` to a variable `string_varible`:"
   ]
  },
  {
   "cell_type": "markdown",
   "metadata": {},
   "source": [
    "<!-- $$\n",
    "  \\mathbf{x} = \\begin{bmatrix} x_1 \\\\ x_2 \\\\\\vdots\\\\ x_n \\end{bmatrix}.\n",
    "$$ -->"
   ]
  },
  {
   "cell_type": "code",
   "execution_count": null,
   "metadata": {},
   "outputs": [],
   "source": [
    "x = 1\n",
    "string_variable = \"Hello world\""
   ]
  },
  {
   "cell_type": "markdown",
   "metadata": {},
   "source": [
    "```{Note}\n",
    "Variables must be created before they are used. If a variable doesn't exist yet, or if the name has been mis-spelled, Python reports an error. \n",
    "```\n",
    "\n",
    "```{warning}\n",
    "Some variable names are reserved for special use in Python. For example, `print` is a function that prints the value of a variable. If you try to use `print` as a variable name, Python will report an error.\n",
    "```\n",
    "\n",
    "Run the following code to see the full list of reserved words in Python:"
   ]
  },
  {
   "cell_type": "code",
   "execution_count": null,
   "metadata": {
    "tags": [
     "hide-output"
    ]
   },
   "outputs": [],
   "source": [
    "import keyword\n",
    "\n",
    "keyword.kwlist"
   ]
  },
  {
   "cell_type": "markdown",
   "metadata": {},
   "source": [
    "#### For loop and if statement\n",
    "\n",
    "- `for` loop is used to iterate over a sequence (e.g. a string) or other iterable objects.\n",
    "\n",
    "**Example**\n",
    "\n",
    "Display the characters in the string `\"Hello world\"`:"
   ]
  },
  {
   "cell_type": "code",
   "execution_count": null,
   "metadata": {
    "tags": [
     "hide-output"
    ]
   },
   "outputs": [],
   "source": [
    "for character in string_variable:\n",
    "    print(character)"
   ]
  },
  {
   "cell_type": "markdown",
   "metadata": {},
   "source": [
    "- `if` statement is used to execute a block of code if a specified condition is true.\n",
    "- `elif` is used to check another condition if the first condition is false.\n",
    "- `else` is used to execute a block of code if all conditions are false.\n",
    "\n",
    "**Examples**\n",
    "\n",
    "1. `if` ... `else` statement"
   ]
  },
  {
   "cell_type": "code",
   "execution_count": null,
   "metadata": {
    "tags": [
     "hide-output"
    ]
   },
   "outputs": [],
   "source": [
    "# check an input number is non-negative or negative\n",
    "\n",
    "num = 3\n",
    "\n",
    "# Try these two variations as well.\n",
    "# num = -5\n",
    "# num = 0\n",
    "\n",
    "if num >= 0:\n",
    "    print(\"{} is a non-negative number\".format(num))\n",
    "else:\n",
    "    print(\"{} is a negative number\".format(num))"
   ]
  },
  {
   "cell_type": "markdown",
   "metadata": {},
   "source": [
    "2. `if` ... `elif` ... `else` statement"
   ]
  },
  {
   "cell_type": "code",
   "execution_count": null,
   "metadata": {
    "tags": [
     "hide-output"
    ]
   },
   "outputs": [],
   "source": [
    "# check an input number is positive, negative, or zero\n",
    "\n",
    "num = 3.14\n",
    "\n",
    "# Try these two variations as well:\n",
    "# num = 0\n",
    "# num = -2.5\n",
    "\n",
    "if num > 0:\n",
    "    print(\"{} is a positive number\".format(num))\n",
    "elif num == 0:\n",
    "    print(\"The input number is zero\")\n",
    "else:\n",
    "    print(\"{} is a negative number\".format(num))"
   ]
  },
  {
   "cell_type": "markdown",
   "metadata": {},
   "source": [
    "#### Built-in functions\n",
    "\n",
    "There are many built-in functions in Python. For example, the `print` that has been used in the above section. This section introduces some common built-in functions:\n",
    "\n",
    "\n",
    "**Print**\n",
    "\n",
    "- `print` displays the value of an expression.\n",
    "- Provide values to the function (i.e., the things to print) in parentheses."
   ]
  },
  {
   "cell_type": "code",
   "execution_count": null,
   "metadata": {
    "tags": [
     "hide-output"
    ]
   },
   "outputs": [],
   "source": [
    "print(\"Value of the string variable is \", string_variable)\n",
    "print(\"The first character of the string variable is \", string_variable[0])\n",
    "print(\"The first five characters of the string variable are \", string_variable[:5])\n",
    "print(x, \"+ 1 =\", x + 1)"
   ]
  },
  {
   "cell_type": "markdown",
   "metadata": {},
   "source": [
    "**Type**\n",
    "\n",
    "- The `type` function returns the type of an expression."
   ]
  },
  {
   "cell_type": "code",
   "execution_count": null,
   "metadata": {
    "tags": [
     "hide-output"
    ]
   },
   "outputs": [],
   "source": [
    "type(string_variable)"
   ]
  },
  {
   "cell_type": "code",
   "execution_count": null,
   "metadata": {
    "tags": [
     "hide-output"
    ]
   },
   "outputs": [],
   "source": [
    "type(x)"
   ]
  },
  {
   "cell_type": "markdown",
   "metadata": {},
   "source": [
    "**Length**\n",
    "\n",
    "- The `len` function returns the length of a string, or the number of elements in other type of variables, such as  list and tuple."
   ]
  },
  {
   "cell_type": "code",
   "execution_count": null,
   "metadata": {
    "tags": [
     "hide-output"
    ]
   },
   "outputs": [],
   "source": [
    "print(len(string_variable))"
   ]
  },
  {
   "cell_type": "markdown",
   "metadata": {},
   "source": [
    "**Range**\n",
    "\n",
    "- The `range` function returns a sequence of numbers."
   ]
  },
  {
   "cell_type": "code",
   "execution_count": null,
   "metadata": {
    "tags": [
     "hide-output"
    ]
   },
   "outputs": [],
   "source": [
    "for i in range(3):\n",
    "    print(\"loop: \", i)"
   ]
  },
  {
   "cell_type": "markdown",
   "metadata": {},
   "source": [
    "#### Variable types\n",
    "\n",
    "- _Numbers_\n",
    "\n",
    "   - Integers (e.g., `1`, `2`, `3`) and floating point numbers (e.g., `1.0`, `2.5`, `3.14159`) are the two main numeric types in Python."
   ]
  },
  {
   "cell_type": "code",
   "execution_count": null,
   "metadata": {
    "tags": [
     "hide-output"
    ]
   },
   "outputs": [],
   "source": [
    "y = 1\n",
    "z = 3.14\n",
    "print(type(y))\n",
    "print(type(z))"
   ]
  },
  {
   "cell_type": "markdown",
   "metadata": {},
   "source": [
    "- _Strings_\n",
    "\n",
    "   - Strings are sequences of characters.\n",
    "   - Strings are created by enclosing characters in single quotes (`'...'`) or double quotes (`\"...\"`).\n",
    "   - Strings can be concatenated (glued together) with the `+` operator, and repeated with `*`."
   ]
  },
  {
   "cell_type": "code",
   "execution_count": null,
   "metadata": {
    "tags": [
     "hide-output"
    ]
   },
   "outputs": [],
   "source": [
    "print(string_variable + \" \" + \"Python is fun!\")"
   ]
  },
  {
   "cell_type": "code",
   "execution_count": null,
   "metadata": {
    "tags": [
     "hide-output"
    ]
   },
   "outputs": [],
   "source": [
    "print(3 * string_variable)"
   ]
  },
  {
   "cell_type": "markdown",
   "metadata": {},
   "source": [
    "- _Booleans_\n",
    "\n",
    "   - Booleans are either `True` or `False`.\n",
    "   - Booleans are often used in `if` statements to control the flow of a program, or used in `while` or `for` loops to control the number of times a loop is executed."
   ]
  },
  {
   "cell_type": "code",
   "execution_count": null,
   "metadata": {
    "tags": [
     "hide-output"
    ]
   },
   "outputs": [],
   "source": [
    "create_int_variable = True\n",
    "if create_int_variable:\n",
    "    new_int_variable = 123\n",
    "\n",
    "print(new_int_variable)"
   ]
  },
  {
   "cell_type": "markdown",
   "metadata": {},
   "source": [
    "- _None_\n",
    "\n",
    "   - `None` is a special value that represents the absence of a value.\n",
    "   - `None` is the only value of the type `NoneType`.\n",
    "   - `None` is frequently used to represent the absence of a value, as when default arguments are not passed to a function.\n",
    "   - `None` is also frequently returned by functions that don't explicitly return anything in order to explicitly signal the absence of a return value.\n",
    "   - `None` is a singleton object, there is only one `None` object and it is unique.\n",
    "   - `None` is immutable, it cannot be changed in any way.\n",
    "   - `None` is comparable to any other object using the `is` operator, but it is never equal to any other object using the `==` operator."
   ]
  },
  {
   "cell_type": "code",
   "execution_count": null,
   "metadata": {
    "tags": [
     "hide-output"
    ]
   },
   "outputs": [],
   "source": [
    "none_variable = None\n",
    "print(none_variable is None)\n",
    "\n",
    "print(type(none_variable))"
   ]
  },
  {
   "cell_type": "markdown",
   "metadata": {},
   "source": [
    "- _Lists_\n",
    "   - Lists are ordered sequences of values.\n",
    "   - Lists are created by enclosing values in square brackets (`[...]`).\n",
    "   - Lists can contain values of different types.\n",
    "   - Lists can be indexed, sliced, and nested.\n",
    "   - Lists are mutable and dynamic."
   ]
  },
  {
   "cell_type": "code",
   "execution_count": null,
   "metadata": {},
   "outputs": [],
   "source": [
    "new_list = [1, 2, 3, 4, 5, None]"
   ]
  },
  {
   "cell_type": "markdown",
   "metadata": {},
   "source": [
    "Using the `append()` method can append an element to the end of the list."
   ]
  },
  {
   "cell_type": "code",
   "execution_count": null,
   "metadata": {
    "tags": [
     "hide-output"
    ]
   },
   "outputs": [],
   "source": [
    "new_list.append(\"Hello world\")\n",
    "print(new_list)"
   ]
  },
  {
   "cell_type": "markdown",
   "metadata": {},
   "source": [
    "- _Dictionaries_\n",
    "   - Dictionaries are unordered sets of key: value pairs, and created by enclosing pairs in curly braces (`{...}`).\n",
    "   - Dictionaries can contain values of different types.\n",
    "   - Dictionaries are indexed by keys, which can be any immutable type; strings and numbers can always be keys.\n",
    "   - Dictionaries are mutable and dynamic.\n",
    "   - Dictionaries have no concept of order among elements.\n",
    "   - Dictionaries are sometimes found in other programming languages as “associative memories”, “associative arrays”, “associative lists”,“hashes”, “hash tables”, or “maps”."
   ]
  },
  {
   "cell_type": "markdown",
   "metadata": {},
   "source": [
    "- _Tuples_\n",
    "   - Tuples are ordered sequences of values.\n",
    "   - Tuples are created by enclosing values in parentheses (`(...)`).\n",
    "   - Tuples can contain values of different types.\n",
    "   - Tuples can be indexed and sliced.\n",
    "   - Tuples are immutable and dynamic.\n",
    "\n",
    "In this course, tuples are usually used to represent the shapes of vectors and matrices."
   ]
  },
  {
   "cell_type": "code",
   "execution_count": null,
   "metadata": {
    "tags": [
     "hide-output"
    ]
   },
   "outputs": [],
   "source": [
    "new_tuple = (3, 4)\n",
    "\n",
    "type(new_tuple)"
   ]
  },
  {
   "cell_type": "markdown",
   "metadata": {},
   "source": [
    "- _Type conversion_\n",
    "\n",
    "   - Python can convert values from one type to another.\n",
    "   - This is called type conversion, and is sometimes also called type casting.\n",
    "   - The syntax for type conversion is to use the type name as a function.\n",
    "   - For example, `int(\"32\")` converts the string `32` to an integer, and `float(32)` converts the integer `32` to a floating-point number.\n",
    "   - Type conversion can also be done with the built-in functions `str()`, `int()`, and `float()`."
   ]
  },
  {
   "cell_type": "code",
   "execution_count": null,
   "metadata": {
    "tags": [
     "hide-output"
    ]
   },
   "outputs": [],
   "source": [
    "a = 1\n",
    "\n",
    "print(a, type(a))\n",
    "\n",
    "print(float(a), type(float(a)))\n",
    "\n",
    "print(str(a), type(str(a)))"
   ]
  },
  {
   "cell_type": "markdown",
   "metadata": {},
   "source": [
    "#### Indexing and slicing\n",
    "\n",
    "Indexing is used to access a single element of a sequence (e.g., a string, a list, or a tuple).\n",
    "\n",
    "- Each position in the string (first, second, etc.) is given a number. This number is called an index or sometimes a subscript.\n",
    "- Indices are numbered from 0.\n",
    "- Use the position’s index in square brackets to get the character at that position."
   ]
  },
  {
   "cell_type": "code",
   "execution_count": null,
   "metadata": {
    "tags": [
     "hide-output"
    ]
   },
   "outputs": [],
   "source": [
    "print(string_variable[0])"
   ]
  },
  {
   "cell_type": "markdown",
   "metadata": {},
   "source": [
    "Index value can be negative, which counts from the right. For example, the index value `-1` refers to the last character in the string, `-2` refers to the second-last character, and so on. See the following example to get the last element of a list:"
   ]
  },
  {
   "cell_type": "code",
   "execution_count": null,
   "metadata": {
    "tags": [
     "hide-output"
    ]
   },
   "outputs": [],
   "source": [
    "print(new_list[-1])"
   ]
  },
  {
   "cell_type": "markdown",
   "metadata": {},
   "source": [
    "```{Note}\n",
    "In python, the index starts from 0, not 1. \n",
    "```"
   ]
  },
  {
   "cell_type": "markdown",
   "metadata": {},
   "source": [
    "Slicing is used to access a subsequence of a sequence.\n",
    "- A part of a string is called a substring. A substring can be as short as a single character.\n",
    "- An item in a list is called an element. Whenever we treat a string as if it were a list, the string’s elements are its individual characters.\n",
    "- A slice is a part of a string (or, more generally, a part of any list-like thing).\n",
    "- We take a slice with the notation `[start:stop]`, where `start` is the integer index of the first element we want and `stop` is the integer index of the element just after the last element we want.\n",
    "- The difference between `stop` and `start` is the slice’s length.\n",
    "- Taking a slice does not change the contents of the original string. Instead, taking a slice returns a copy of part of the original string."
   ]
  },
  {
   "cell_type": "code",
   "execution_count": null,
   "metadata": {
    "tags": [
     "hide-output"
    ]
   },
   "outputs": [],
   "source": [
    "# elements beginning to index 5 (not included)\n",
    "string_variable[:5]"
   ]
  },
  {
   "cell_type": "code",
   "execution_count": null,
   "metadata": {
    "tags": [
     "hide-output"
    ]
   },
   "outputs": [],
   "source": [
    "# elements from index 3 to 5 (not included)\n",
    "string_variable[3:5]"
   ]
  },
  {
   "cell_type": "code",
   "execution_count": null,
   "metadata": {
    "tags": [
     "hide-output"
    ]
   },
   "outputs": [],
   "source": [
    "# elements from index index 6 to end\n",
    "string_variable[6:]"
   ]
  },
  {
   "cell_type": "markdown",
   "metadata": {},
   "source": [
    "#### Calculations\n",
    "\n",
    "Variables can be used in calculations as if they were values"
   ]
  },
  {
   "cell_type": "code",
   "execution_count": null,
   "metadata": {
    "tags": [
     "hide-output"
    ]
   },
   "outputs": [],
   "source": [
    "x + 1"
   ]
  },
  {
   "cell_type": "markdown",
   "metadata": {},
   "source": [
    "### Basic matrices/arrays operations\n",
    "\n",
    "In python we can use the `numpy` package to perform basic matrix operations. The `numpy` package is a fundamental package for scientific computing with Python. It contains among other things:\n",
    "\n",
    "- a powerful N-dimensional array object\n",
    "- sophisticated (broadcasting) functions\n",
    "- a collection of routines for linear algebra, Fourier transform, and random number generation\n",
    "- a collection of routines for numerical integration and optimization\n",
    "- key tools for working with numerical data in Python\n",
    "- support for large, multi-dimensional arrays and matrices\n",
    "\n",
    "#### Creating arrays\n",
    "\n",
    "Create a matrix using `list`"
   ]
  },
  {
   "cell_type": "code",
   "execution_count": null,
   "metadata": {
    "tags": [
     "hide-output"
    ]
   },
   "outputs": [],
   "source": [
    "# create matrices\n",
    "x = [[1, 2, 3], [4, 5, 6]]\n",
    "print(x)"
   ]
  },
  {
   "cell_type": "markdown",
   "metadata": {},
   "source": [
    "Create an array using `numpy.array`"
   ]
  },
  {
   "cell_type": "code",
   "execution_count": null,
   "metadata": {
    "tags": [
     "hide-output"
    ]
   },
   "outputs": [],
   "source": [
    "import numpy as np\n",
    "\n",
    "# create an 1D array\n",
    "x = np.array([1, 2, 3, 4, 5])\n",
    "print(x)"
   ]
  },
  {
   "cell_type": "markdown",
   "metadata": {},
   "source": [
    "The `shape` attribute of an array object returns a tuple consisting of array dimensions. For a matrix with `n` rows and `m` columns, shape will be `(n,m)`. The length of the shape tuple is therefore the number of axes, `ndim`."
   ]
  },
  {
   "cell_type": "code",
   "execution_count": null,
   "metadata": {
    "tags": [
     "hide-output"
    ]
   },
   "outputs": [],
   "source": [
    "print(x.shape)"
   ]
  },
  {
   "cell_type": "markdown",
   "metadata": {},
   "source": [
    "`np.arange()` is used to create a sequence of numbers. It is similar to the built-in `range()` function, but returns an `ndarray` instead of a list. The arguments are `(start, stop, step)`, which the same as for `range()`, but it also accepts float arguments. The arguments are . If `step` is not given, it defaults to 1. If `start` is not given, it defaults to 0. If `stop` is not given, it defaults to `start` and `start` is set to 0. Note the `np.arange()` excludes right end of range specification."
   ]
  },
  {
   "cell_type": "code",
   "execution_count": null,
   "metadata": {
    "tags": [
     "hide-output"
    ]
   },
   "outputs": [],
   "source": [
    "x = np.arange(1, 11)\n",
    "print(x)"
   ]
  },
  {
   "cell_type": "code",
   "execution_count": null,
   "metadata": {
    "tags": [
     "hide-output"
    ]
   },
   "outputs": [],
   "source": [
    "# note: np.arange actually can result in unexpected results; check np.arange(0.2, 0.6, 0.4) vs np.arange(0.2, 1.6, 1.4)\n",
    "print(np.arange(0.2, 0.6, 0.4))\n",
    "print(np.arange(0.2, 1.6, 1.4))"
   ]
  },
  {
   "cell_type": "markdown",
   "metadata": {},
   "source": [
    "The `reshape()` method can be used to reshape an array."
   ]
  },
  {
   "cell_type": "code",
   "execution_count": null,
   "metadata": {
    "tags": [
     "hide-output"
    ]
   },
   "outputs": [],
   "source": [
    "x = np.array([1, 2, 3, 4, 5, 6])\n",
    "print(x)\n",
    "\n",
    "x = np.reshape(x, (2, 3))\n",
    "print(x)"
   ]
  },
  {
   "cell_type": "markdown",
   "metadata": {},
   "source": [
    "Try to run the following cell multiple times, can you get the same output every time?"
   ]
  },
  {
   "cell_type": "code",
   "execution_count": null,
   "metadata": {
    "tags": [
     "hide-output"
    ]
   },
   "outputs": [],
   "source": [
    "# generate random numbers/array/matrices\n",
    "\n",
    "mu, sigma = 0, 1\n",
    "a = np.random.randint(0, 10, 5)\n",
    "b = np.random.random((2, 3))\n",
    "\n",
    "print(a)\n",
    "print(b)\n",
    "\n",
    "x = np.random.normal(mu, sigma, 5)\n",
    "y = x + np.random.normal(20, 0.1, 5)\n",
    "\n",
    "print(x)\n",
    "print(y)"
   ]
  },
  {
   "cell_type": "markdown",
   "metadata": {},
   "source": [
    "Run the following cell multiple times, can you get the same output every time?"
   ]
  },
  {
   "cell_type": "code",
   "execution_count": null,
   "metadata": {
    "tags": [
     "hide-output"
    ]
   },
   "outputs": [],
   "source": [
    "np.random.seed(123)\n",
    "\n",
    "print(np.random.normal(mu, sigma, 5))"
   ]
  },
  {
   "cell_type": "markdown",
   "metadata": {},
   "source": [
    "#### Basic matrix operations\n",
    "\n",
    "- Transpose\n",
    "\n",
    "The `T` attribute or `transpose()` method can be used to transpose an array."
   ]
  },
  {
   "cell_type": "code",
   "execution_count": null,
   "metadata": {
    "tags": [
     "hide-output"
    ]
   },
   "outputs": [],
   "source": [
    "a = np.array([[1, 2], [3, 4]])\n",
    "\n",
    "print(a)\n",
    "\n",
    "print(a.T)\n",
    "\n",
    "print(a.transpose())"
   ]
  },
  {
   "cell_type": "markdown",
   "metadata": {},
   "source": [
    "- Add a scalar to an array, or multiply an array by a scalar."
   ]
  },
  {
   "cell_type": "code",
   "execution_count": null,
   "metadata": {
    "tags": [
     "hide-output"
    ]
   },
   "outputs": [],
   "source": [
    "print(a + 1)\n",
    "print(a - 1)\n",
    "print(a * 2)\n",
    "print(a / 2)"
   ]
  },
  {
   "cell_type": "markdown",
   "metadata": {},
   "source": [
    "- Add or multiply two arrays of the same size element-wise."
   ]
  },
  {
   "cell_type": "code",
   "execution_count": null,
   "metadata": {
    "tags": [
     "hide-output"
    ]
   },
   "outputs": [],
   "source": [
    "b = np.array([[5, 6], [7, 8]])\n",
    "\n",
    "print(a + b)\n",
    "\n",
    "print(a * b)\n",
    "\n",
    "print(np.multiply(a, b))"
   ]
  },
  {
   "cell_type": "markdown",
   "metadata": {},
   "source": [
    "- Matrix multiplication."
   ]
  },
  {
   "cell_type": "code",
   "execution_count": null,
   "metadata": {
    "tags": [
     "hide-output"
    ]
   },
   "outputs": [],
   "source": [
    "# product of two matrices\n",
    "c = np.array([[1, 2, 3], [4, 5, 6]])\n",
    "\n",
    "print(np.dot(a, c))"
   ]
  },
  {
   "cell_type": "code",
   "execution_count": null,
   "metadata": {
    "tags": [
     "hide-output"
    ]
   },
   "outputs": [],
   "source": [
    "#  product of matrix and vector\n",
    "d = np.array([1, 2])\n",
    "\n",
    "print(np.dot(a, d))"
   ]
  },
  {
   "cell_type": "markdown",
   "metadata": {},
   "source": [
    "#### Statistics with NumPy"
   ]
  },
  {
   "cell_type": "code",
   "execution_count": null,
   "metadata": {
    "tags": [
     "hide-output"
    ]
   },
   "outputs": [],
   "source": [
    "x = np.array([1, 2, 3, 4, 5, 6])\n",
    "\n",
    "print(np.sqrt(x))\n",
    "\n",
    "print(x**2)\n",
    "\n",
    "print(np.square(x))"
   ]
  },
  {
   "cell_type": "code",
   "execution_count": null,
   "metadata": {
    "tags": [
     "hide-output"
    ]
   },
   "outputs": [],
   "source": [
    "x = np.random.randint(0, 10, 5)\n",
    "\n",
    "print(\"The mean value of the array x is: \", np.mean(x))\n",
    "print(\"The median value of the array x is: \", np.median(x))\n",
    "print(\"The standard deviation of the array x is: \", np.std(x))\n",
    "print(\"The variance of the array x is: \", np.var(x))\n",
    "print(\"The max value of the array x is: \", np.min(x))\n",
    "print(\"The min value of the array x is: \", np.max(x))"
   ]
  },
  {
   "cell_type": "markdown",
   "metadata": {},
   "source": [
    "#### Indexing in `NumPy`"
   ]
  },
  {
   "cell_type": "code",
   "execution_count": null,
   "metadata": {
    "tags": [
     "hide-output"
    ]
   },
   "outputs": [],
   "source": [
    "A = np.arange(1, 17, 1).reshape(4, 4).transpose()\n",
    "print(A)"
   ]
  },
  {
   "cell_type": "markdown",
   "metadata": {},
   "source": [
    "Get an element from a matrix, for example, get the forth element in the third row (index starts from 0). "
   ]
  },
  {
   "cell_type": "code",
   "execution_count": null,
   "metadata": {
    "tags": [
     "hide-output"
    ]
   },
   "outputs": [],
   "source": [
    "print(A[2, 3])"
   ]
  },
  {
   "cell_type": "code",
   "execution_count": null,
   "metadata": {
    "tags": [
     "hide-output"
    ]
   },
   "outputs": [],
   "source": [
    "# to select a submatrix, need the non-singleton dimension of your indexing array to be aligned with the axis you're indexing into,\n",
    "# e.g. for an n x m 2D subarray: A[n by 1 array,1 by m array]\n",
    "A[[[0], [2]], [1, 3]]"
   ]
  },
  {
   "cell_type": "markdown",
   "metadata": {},
   "source": [
    "Using the `:` operator can get a row or a column."
   ]
  },
  {
   "cell_type": "code",
   "execution_count": null,
   "metadata": {
    "tags": [
     "hide-output"
    ]
   },
   "outputs": [],
   "source": [
    "# the last two examples include either no index for the columns or no index for the rows. These indicate that Python should include all columns or all rows, respectively\n",
    "A[0, :]"
   ]
  },
  {
   "cell_type": "markdown",
   "metadata": {},
   "source": [
    "The default indexing is row-wise, and therefore the `:` for column can be omitted. "
   ]
  },
  {
   "cell_type": "code",
   "execution_count": null,
   "metadata": {
    "tags": [
     "hide-output"
    ]
   },
   "outputs": [],
   "source": [
    "A[0]"
   ]
  },
  {
   "cell_type": "markdown",
   "metadata": {},
   "source": [
    "Using `start:stop;step_size` to get a submatrix. \n",
    "- `start` and `stop` are the indices of the first and last elements of the submatrix, and `step_size` is the step size. \n",
    "- `start` and `stop` can be negative, which means the indices are counted from the right. \n",
    "- `step_size` can be negative, which means the submatrix is reversed. \n",
    "- `start` and `stop` can be omitted, which means the submatrix starts from the first element or ends at the last element. \n",
    "- `step_size` can be omitted, which means the step size is 1."
   ]
  },
  {
   "cell_type": "code",
   "execution_count": null,
   "metadata": {
    "tags": [
     "hide-output"
    ]
   },
   "outputs": [],
   "source": [
    "# this is another way to do that\n",
    "A[0:3:2, 1:4:2]"
   ]
  },
  {
   "cell_type": "code",
   "execution_count": null,
   "metadata": {
    "tags": [
     "hide-output"
    ]
   },
   "outputs": [],
   "source": [
    "# select all columns in those two rows\n",
    "A[0:3:2, :]"
   ]
  },
  {
   "cell_type": "code",
   "execution_count": null,
   "metadata": {
    "tags": [
     "hide-output"
    ]
   },
   "outputs": [],
   "source": [
    "# select all row in those two columns\n",
    "A[:, 1:4:2]"
   ]
  },
  {
   "cell_type": "code",
   "execution_count": null,
   "metadata": {
    "tags": [
     "hide-output"
    ]
   },
   "outputs": [],
   "source": [
    "# '-' sign has a different meaning and good usage in Python. This means index from the end, -1 means the last element\n",
    "A[-1, -1]"
   ]
  },
  {
   "cell_type": "markdown",
   "metadata": {},
   "source": [
    "Boolean indexing"
   ]
  },
  {
   "cell_type": "code",
   "execution_count": null,
   "metadata": {
    "tags": [
     "hide-output"
    ]
   },
   "outputs": [],
   "source": [
    "# there are other ways to let Python keep all rows except certain index. For example, we could also use boolean.\n",
    "ind = np.ones((4,), bool)\n",
    "ind[[0, 2]] = False\n",
    "print(ind)"
   ]
  },
  {
   "cell_type": "code",
   "execution_count": null,
   "metadata": {
    "tags": [
     "hide-output"
    ]
   },
   "outputs": [],
   "source": [
    "print(A[ind, :])\n",
    "\n",
    "print(A[ind])"
   ]
  },
  {
   "cell_type": "markdown",
   "metadata": {},
   "source": [
    "### Graphics\n",
    "\n",
    "In python, matplotlib is the most used library for plot matplotlib.pyplot is a collection of command style functions that make matplotlib work like MATLAB. The `pyplot.plot()` function is used to plot lines, and the `pyplot.scatter()` function is used to plot points. The `pyplot.plot()` and `pyplot.scatter()` will generate an output figure object, which can be displayed by the `pyplot.show()`. In addition, the `pyplot.savefig()` function can be used to save the figure object to a file."
   ]
  },
  {
   "cell_type": "code",
   "execution_count": null,
   "metadata": {
    "tags": [
     "hide-output"
    ]
   },
   "outputs": [],
   "source": [
    "import numpy as np\n",
    "from matplotlib import pyplot as plt\n",
    "\n",
    "%matplotlib inline\n",
    "\n",
    "x = np.random.normal(0, 1, 100)\n",
    "y = np.random.normal(0, 1, 100)\n",
    "\n",
    "plt.scatter(x, y, c=\"b\")  # please use plt.plot? to look at more options\n",
    "plt.ylabel(\"this is the y-axis\")\n",
    "plt.xlabel(\"this is the x-axis\")\n",
    "plt.title(\"Plot of X vs Y\")\n",
    "plt.savefig(\"Figure.pdf\")  # use plt.savefig function to save images\n",
    "plt.show()"
   ]
  },
  {
   "cell_type": "markdown",
   "metadata": {},
   "source": [
    "Use `plt.scatter?` and `plt.plot?` to see the documentation of these functions.\n",
    "\n",
    "Next, we will create a more sophisticated plot using the `pyplot.contour()` function. The `pyplot.contour()` function can be used to plot contour lines of a function. The `pyplot.contour()` function takes three arguments: `x`, `y`, and `z`. `x` and `y` are 1D arrays of x and y coordinates of the grid points, and `z` is a 2D array of z coordinates of the grid points. The `pyplot.contour()` function returns a `ContourSet` object, which can be used to add labels to the contour lines. \n",
    "\n",
    "First, let us create the data needed for the contour plot."
   ]
  },
  {
   "cell_type": "code",
   "execution_count": null,
   "metadata": {
    "tags": [
     "hide-output"
    ]
   },
   "outputs": [],
   "source": [
    "# in order to use Pi, math module needs to loaded first\n",
    "import math\n",
    "\n",
    "x = np.linspace(-math.pi, math.pi, num=50)\n",
    "print(x)"
   ]
  },
  {
   "cell_type": "markdown",
   "metadata": {},
   "source": [
    "Use `numpy.meshgrid()` to create a rectangular grid out of an array of x values and an array of y values. \n",
    "\n",
    "<!-- The `numpy.meshgrid()` function takes two 1D arrays and produces two 2D matrices corresponding to all pairs of `(x, y)` in the two arrays. -->"
   ]
  },
  {
   "cell_type": "code",
   "execution_count": null,
   "metadata": {
    "tags": [
     "hide-output"
    ]
   },
   "outputs": [],
   "source": [
    "import matplotlib.cm as cm\n",
    "import matplotlib.mlab as mlab\n",
    "\n",
    "y = x\n",
    "X, Y = np.meshgrid(x, y)"
   ]
  },
  {
   "cell_type": "markdown",
   "metadata": {},
   "source": [
    "`%whos` is a magic function that lists all the variables in the current workspace."
   ]
  },
  {
   "cell_type": "code",
   "execution_count": null,
   "metadata": {
    "tags": [
     "hide-output"
    ]
   },
   "outputs": [],
   "source": [
    "%whos"
   ]
  },
  {
   "cell_type": "markdown",
   "metadata": {},
   "source": [
    "Use `plt.contour()` to plot contour lines."
   ]
  },
  {
   "cell_type": "code",
   "execution_count": null,
   "metadata": {
    "tags": [
     "hide-output"
    ]
   },
   "outputs": [],
   "source": [
    "# same as above,\n",
    "f = np.cos(Y) / (1 + np.square(X))\n",
    "CS = plt.contour(X, Y, f)\n",
    "plt.show()"
   ]
  },
  {
   "cell_type": "code",
   "execution_count": null,
   "metadata": {},
   "outputs": [],
   "source": [
    "f.shape"
   ]
  },
  {
   "cell_type": "markdown",
   "metadata": {},
   "source": [
    "Similarly, use `plt.contour?` to see the documentation of the `pyplot.contour()` function.\n",
    "\n",
    "2D arrays can also be visualised by the `imshow()` function, which produces colour-coded plot."
   ]
  },
  {
   "cell_type": "code",
   "execution_count": null,
   "metadata": {
    "tags": [
     "hide-output"
    ]
   },
   "outputs": [],
   "source": [
    "fa = (f - f.T) / 2  # f.T for transpose or tranpose(f)\n",
    "plt.imshow(fa, extent=(x[0], x[-1], y[0], y[-1]))\n",
    "plt.show()"
   ]
  },
  {
   "cell_type": "markdown",
   "metadata": {},
   "source": [
    "This figure is also known as heatmap. In Python, there is another package called `seaborn` that can be used to create heatmap."
   ]
  },
  {
   "cell_type": "code",
   "execution_count": null,
   "metadata": {},
   "outputs": [],
   "source": [
    "import seaborn as sns\n",
    "\n",
    "sns.heatmap(f)\n",
    "plt.show()"
   ]
  },
  {
   "cell_type": "markdown",
   "metadata": {},
   "source": [
    "For more information please use `sns.heatmap?` to see the documentation of the `sns.heatmap()` function.\n",
    "\n",
    "The following example produces a 3D plot."
   ]
  },
  {
   "cell_type": "code",
   "execution_count": null,
   "metadata": {
    "tags": [
     "hide-output"
    ]
   },
   "outputs": [],
   "source": [
    "from mpl_toolkits.mplot3d import axes3d\n",
    "\n",
    "fig = plt.figure()\n",
    "ax = fig.add_subplot(111, projection=\"3d\")\n",
    "ax.plot_wireframe(X, Y, fa)\n",
    "plt.show()"
   ]
  },
  {
   "cell_type": "markdown",
   "metadata": {},
   "source": [
    "### Loading Data\n",
    "\n",
    "\n",
    "#### Data frame and basic operations\n",
    "\n",
    "In Python, Pandas is a common used module to read from file into a data frame. I downloaded the Auto.csv from the book website. First, take a look at the csv file. There are headers, missing value is marked by '?'. The data is separated by comma. We can use the `read_csv` function to read the csv file into a data frame. The `read_csv` function has many parameters, we can use `?` to get the documentation of the function. \n",
    "\n",
    "The following code shows how to read the csv file \"Auto.csv\" in the text book into a data frame `auto_df`."
   ]
  },
  {
   "cell_type": "code",
   "execution_count": null,
   "metadata": {
    "tags": [
     "hide-output"
    ]
   },
   "outputs": [],
   "source": [
    "import pandas as pd\n",
    "import urllib\n",
    "\n",
    "data_url = \"https://github.com/pykale/transparentML/raw/main/data/Auto.csv\"\n",
    "# res = urllib.urlopen(data_url)\n",
    "auto_df = pd.read_csv(data_url, header=0, na_values=\"?\")"
   ]
  },
  {
   "cell_type": "markdown",
   "metadata": {},
   "source": [
    "The `.head()` method can be used to get the first 5 (by default) rows of the data frame."
   ]
  },
  {
   "cell_type": "code",
   "execution_count": null,
   "metadata": {
    "tags": [
     "hide-output"
    ]
   },
   "outputs": [],
   "source": [
    "auto_df.head()"
   ]
  },
  {
   "cell_type": "markdown",
   "metadata": {},
   "source": [
    "The `.describe()` method can get the summary statistics of the data frame. Specify the argument `include` to get the summary statistics of certain variables, e.g. `include = \"all\"` for mix types, `include = [np.number]` for numerical columns, and `include = [\"O\"]` for objects."
   ]
  },
  {
   "cell_type": "code",
   "execution_count": null,
   "metadata": {
    "tags": [
     "hide-output"
    ]
   },
   "outputs": [],
   "source": [
    "auto_df.describe()"
   ]
  },
  {
   "cell_type": "code",
   "execution_count": null,
   "metadata": {
    "tags": [
     "hide-output"
    ]
   },
   "outputs": [],
   "source": [
    "auto_df.describe(include=\"all\")"
   ]
  },
  {
   "cell_type": "markdown",
   "metadata": {},
   "source": [
    "The dimension of a data frame can be found out by the same `.shape()` method as in `Numpy` arrays."
   ]
  },
  {
   "cell_type": "code",
   "execution_count": null,
   "metadata": {
    "tags": [
     "hide-output"
    ]
   },
   "outputs": [],
   "source": [
    "auto_df.shape"
   ]
  },
  {
   "cell_type": "markdown",
   "metadata": {},
   "source": [
    "Indexing in Pandas data frame is similar to indexing in `Numpy` arrays. A row, a column, or a submatrix can be accessed by the `.iloc[]` or `.loc[]` method. `iloc` is used to index by position, and `loc` is used to index by labels (row and column names). "
   ]
  },
  {
   "cell_type": "code",
   "execution_count": null,
   "metadata": {
    "tags": [
     "hide-output"
    ]
   },
   "outputs": [],
   "source": [
    "auto_df.iloc[:4, :2]"
   ]
  },
  {
   "cell_type": "code",
   "execution_count": null,
   "metadata": {
    "tags": [
     "hide-output"
    ]
   },
   "outputs": [],
   "source": [
    "auto_df.loc[[0, 1, 2, 3], [\"mpg\", \"cylinders\"]]"
   ]
  },
  {
   "cell_type": "markdown",
   "metadata": {},
   "source": [
    "An alternative way to select the first 4 rows."
   ]
  },
  {
   "cell_type": "code",
   "execution_count": null,
   "metadata": {
    "tags": [
     "hide-output"
    ]
   },
   "outputs": [],
   "source": [
    "auto_df[:4]"
   ]
  },
  {
   "cell_type": "markdown",
   "metadata": {},
   "source": [
    "The column names can be found out by `list` function or the `.columns` attribute."
   ]
  },
  {
   "cell_type": "code",
   "execution_count": null,
   "metadata": {
    "tags": [
     "hide-output"
    ]
   },
   "outputs": [],
   "source": [
    "print(list(auto_df))\n",
    "print(auto_df.columns)"
   ]
  },
  {
   "cell_type": "markdown",
   "metadata": {},
   "source": [
    "`.isnull()` and `.sum()` methods can be used to find out how many NaNs in each variables."
   ]
  },
  {
   "cell_type": "code",
   "execution_count": null,
   "metadata": {
    "tags": [
     "hide-output"
    ]
   },
   "outputs": [],
   "source": [
    "auto_df.isnull().sum()"
   ]
  },
  {
   "cell_type": "code",
   "execution_count": null,
   "metadata": {
    "tags": [
     "hide-output"
    ]
   },
   "outputs": [],
   "source": [
    "# after the previous steps, there are 397 obs in the data and only 5 with missing values. We can just drop the ones with missing values\n",
    "print(auto_df.shape)\n",
    "auto_df = auto_df.dropna()\n",
    "print(auto_df.shape)"
   ]
  },
  {
   "cell_type": "markdown",
   "metadata": {},
   "source": [
    "The type of variable(s) can be changed. The following example will change the cylinders into categorical variable"
   ]
  },
  {
   "cell_type": "code",
   "execution_count": null,
   "metadata": {
    "tags": [
     "hide-output"
    ]
   },
   "outputs": [],
   "source": [
    "auto_df[\"cylinders\"] = auto_df[\"cylinders\"].astype(\"category\")"
   ]
  },
  {
   "cell_type": "markdown",
   "metadata": {},
   "source": [
    "#### Visualising data\n",
    "\n",
    "Refer a column of data frame by name, by using a `.column_name`. See the options in plt.plot for more."
   ]
  },
  {
   "cell_type": "code",
   "execution_count": null,
   "metadata": {
    "tags": [
     "hide-output"
    ]
   },
   "outputs": [],
   "source": [
    "plt.plot(auto_df.cylinders, auto_df.mpg, \"ro\")\n",
    "plt.show()"
   ]
  },
  {
   "cell_type": "markdown",
   "metadata": {},
   "source": [
    "The `.hist()` method can get the histogram of certain variables. Specify the argument `column` to get the histogram of a certain variable."
   ]
  },
  {
   "cell_type": "code",
   "execution_count": null,
   "metadata": {
    "tags": [
     "hide-output"
    ]
   },
   "outputs": [],
   "source": [
    "auto_df.hist(column=[\"cylinders\", \"mpg\"])\n",
    "plt.show()"
   ]
  },
  {
   "cell_type": "markdown",
   "metadata": {},
   "source": [
    "\n",
    "### Exercises"
   ]
  },
  {
   "cell_type": "markdown",
   "metadata": {},
   "source": [
    "<!-- ## Basic probability and statistics \n",
    "\n",
    "### Probability\n",
    "\n",
    "- Marginal probability\n",
    "- Conditional probability\n",
    "- Joint probability\n",
    "-->\n"
   ]
  },
  {
   "cell_type": "markdown",
   "metadata": {},
   "source": [
    "## Quiz\n",
    "\n",
    "_Not for now. To finish in the next cycle._ Complete [Quiz 0](https://forms.gle/8Q5Z7Z7Z7Z7Z7Z7Z7) to check your understanding of this topic. You are advised to score at least 50% to proceed to the next topic.\n",
    "\n",
    "## Summary\n",
    "\n",
    "In this topic, you learned:\n",
    "- Basic linear algebra and matrix operations \n",
    "- Basic Python syntax\n",
    "- Using `numpy` and `pandas` packages to perform basic matrix operations and data analysis\n",
    "- Using `matplotlib` package to plot graphics \n",
    "\n",
    "## References and further reading\n",
    "\n",
    "This material is based on the following resources:\n",
    "- Goodfellow, I., Bengio, Y., & Courville, A. (2016). [Deep Learning](https://www.deeplearningbook.org/). MIT press. \n",
    "- [Jupyter Guide to Linear Algebra](https://bvanderlei.github.io/jupyter-guide-to-linear-algebra/intro.html)\n",
    "- [ISL_python: An Introduction to Statistical Learning with Applications in PYTHON](https://github.com/qx0731/Sharing_ISL_python)\n",
    "- [Python](https://www.python.org/)\n",
    "- [NumPy](https://numpy.org/)\n",
    "- [Pandas](https://pandas.pydata.org/)\n",
    "- [Matplotlib](https://matplotlib.org/)\n",
    "<!-- - Coursera online course [Programming for Everybody (Getting Started with Python)](https://www.coursera.org/learn/python) -->"
   ]
  }
 ],
 "metadata": {
  "celltoolbar": "Tags",
  "kernelspec": {
   "display_name": "Python 3 (ipykernel)",
   "language": "python",
   "name": "python3"
  },
  "language_info": {
   "codemirror_mode": {
    "name": "ipython",
    "version": 3
   },
   "file_extension": ".py",
   "mimetype": "text/x-python",
   "name": "python",
   "nbconvert_exporter": "python",
   "pygments_lexer": "ipython3",
   "version": "3.9.7"
  },
  "vscode": {
   "interpreter": {
    "hash": "86bebae5cc7cea36980a1c5f8c0c180bdb90db2354d6524c00550a599e718092"
   }
  }
 },
 "nbformat": 4,
 "nbformat_minor": 2
}
