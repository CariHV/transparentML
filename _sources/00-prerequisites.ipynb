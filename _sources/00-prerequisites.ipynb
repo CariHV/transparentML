{
 "cells": [
  {
   "cell_type": "markdown",
   "metadata": {},
   "source": [
    "# Topic 00: Prerequisites\n",
    "\n",
    "## 0.0 Overview\n",
    "\n",
    "**Expected time to complete**: 3 hours\n",
    "\n",
    "**Question**: What do you need to know before starting this course?\n",
    "\n",
    "**Objectives**\n",
    "- Write computer programs in Python\n",
    "- Compute with NumPy arrays\n",
    "- Analyse tabular data using `pandas`\n",
    "- Plot data using `matplotlib`\n",
    "\n",
    "Intro paragraph\n",
    "\n",
    "**Each section** should take no more than 30 minutes to complete.\n",
    "\n",
    "## 0.1 Python\n",
    "\n",
    "### 0.1.1 Running\n",
    "\n",
    "Click the `Run` button or press the keyboard shortcut `Ctrl`+`Enter` to execute the code in a cell.\n",
    "\n",
    "\n",
    "### 0.1.2 Variables\n",
    "\n",
    "- Variables are names for values.\n",
    "- In Python the = symbol assigns the value on the right to the name on the left.\n",
    "- The variable is created when a value is assigned to it.    \n",
    "- Variable Naming ([click to learn more about Python naming convention](https://namingconvention.org/python/))\n",
    "  - can only contain letters, digits, and underscore _ (typically used to separate words in long variable names)\n",
    "  - cannot start with a digit\n",
    "  - are case sensitive (age, Age and AGE are three different variables)\n",
    "\n",
    "Try the following code in the cell below to assign `1` to a variable `x` and `\"hello world\"` to a variable `string_varible`:\n"
   ]
  },
  {
   "cell_type": "code",
   "execution_count": 1,
   "metadata": {},
   "outputs": [],
   "source": [
    "x = 1\n",
    "string_variable = \"Hello world\""
   ]
  },
  {
   "cell_type": "markdown",
   "metadata": {},
   "source": [
    "### 0.1.3 Print\n",
    "\n",
    "- `print` is a Python built-in function displays the value of an expression.\n",
    "- Provide values to the function (i.e., the things to print) in parentheses."
   ]
  },
  {
   "cell_type": "code",
   "execution_count": null,
   "metadata": {},
   "outputs": [],
   "source": [
    "print(string_variable)"
   ]
  },
  {
   "cell_type": "markdown",
   "metadata": {},
   "source": [
    "### 0.1.4 Indexing and slicing\n",
    "\n",
    "Indexing is used to access a single element of a sequence (e.g., a string or a list).\n",
    "\n",
    "- Each position in the string (first, second, etc.) is given a number. This number is called an index or sometimes a subscript.\n",
    "- Indices are numbered from 0.\n",
    "- Use the position’s index in square brackets to get the character at that position."
   ]
  },
  {
   "cell_type": "code",
   "execution_count": null,
   "metadata": {},
   "outputs": [],
   "source": [
    "print(string_variable[0])"
   ]
  },
  {
   "cell_type": "markdown",
   "metadata": {},
   "source": [
    "Slicing is used to access a subsequence of a sequence.\n",
    "- A part of a string is called a substring. A substring can be as short as a single character.\n",
    "- An item in a list is called an element. Whenever we treat a string as if it were a list, the string’s elements are its individual characters.\n",
    "- A slice is a part of a string (or, more generally, a part of any list-like thing).\n",
    "- We take a slice with the notation `[start:stop]`, where `start` is the integer index of the first element we want and `stop` is the integer index of the element just after the last element we want.\n",
    "- The difference between `stop` and `start` is the slice’s length.\n",
    "- Taking a slice does not change the contents of the original string. Instead, taking a slice returns a copy of part of the original string."
   ]
  },
  {
   "cell_type": "code",
   "execution_count": null,
   "metadata": {},
   "outputs": [],
   "source": [
    "print(string_variable[0:5])"
   ]
  },
  {
   "cell_type": "markdown",
   "metadata": {},
   "source": [
    "### 0.1.5 Calculations\n",
    "\n",
    "Variables can be used in calculations as if they were values"
   ]
  },
  {
   "cell_type": "code",
   "execution_count": null,
   "metadata": {},
   "outputs": [],
   "source": [
    "print(x, \"+ 1 =\", x + 1)"
   ]
  },
  {
   "cell_type": "markdown",
   "metadata": {},
   "source": [
    "\n",
    "### 0.1.x Exercises\n",
    "\n",
    "min 3 max 5"
   ]
  },
  {
   "cell_type": "markdown",
   "metadata": {},
   "source": [
    "## 0.2 NumPy\n",
    "\n",
    "### 0.2.1 Exercises\n",
    "\n",
    "## 0.y Quiz\n",
    "\n",
    "_Not for now. To finish in the next cycle._ Complete [Quiz 0](https://forms.gle/8Q5Z7Z7Z7Z7Z7Z7Z7) to check your understanding of this topic. You are advised to score at least 50% to proceed to the next topic.\n",
    "\n",
    "## 0.z Summary\n",
    "\n",
    "In this topic, you learned how to:\n",
    "- Use ...\n",
    "\n",
    "## 0.a References and further reading\n",
    "\n",
    "This material is based on the following resources:\n",
    "- [Python](https://www.python.org/)"
   ]
  },
  {
   "cell_type": "code",
   "execution_count": null,
   "metadata": {},
   "outputs": [],
   "source": []
  }
 ],
 "metadata": {
  "kernelspec": {
   "display_name": "Python 3.9.12 ('base')",
   "language": "python",
   "name": "python3"
  },
  "language_info": {
   "codemirror_mode": {
    "name": "ipython",
    "version": 3
   },
   "file_extension": ".py",
   "mimetype": "text/x-python",
   "name": "python",
   "nbconvert_exporter": "python",
   "pygments_lexer": "ipython3",
   "version": "3.9.12"
  },
  "vscode": {
   "interpreter": {
    "hash": "e1c70d2c357ff4c894c8af3697226cbe055031b8f682b7089f13bfe6d3c01242"
   }
  }
 },
 "nbformat": 4,
 "nbformat_minor": 2
}
