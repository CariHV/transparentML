{
 "cells": [
  {
   "cell_type": "markdown",
   "metadata": {},
   "source": [
    "## Loading Data\n",
    "\n",
    "\n",
    "### Data frame and basic operations\n",
    "\n",
    "In Python, Pandas is a common used module to read from file into a data frame. I downloaded the Auto.csv from the book website. First, take a look at the csv file. There are headers, missing value is marked by '?'. The data is separated by comma. We can use the `read_csv` function to read the csv file into a data frame. The `read_csv` function has many parameters, we can use `?` to get the documentation of the function. \n",
    "\n",
    "The following code shows how to read the csv file \"Auto.csv\" in the text book into a data frame `auto_df`."
   ]
  },
  {
   "cell_type": "code",
   "execution_count": null,
   "metadata": {
    "tags": [
     "hide-output"
    ]
   },
   "outputs": [],
   "source": [
    "import pandas as pd\n",
    "import urllib\n",
    "\n",
    "data_url = \"https://github.com/pykale/transparentML/raw/main/data/Auto.csv\"\n",
    "# res = urllib.urlopen(data_url)\n",
    "auto_df = pd.read_csv(data_url, header=0, na_values=\"?\")"
   ]
  },
  {
   "cell_type": "markdown",
   "metadata": {},
   "source": [
    "The `.head()` method can be used to get the first 5 (by default) rows of the data frame."
   ]
  },
  {
   "cell_type": "code",
   "execution_count": null,
   "metadata": {
    "tags": [
     "hide-output"
    ]
   },
   "outputs": [],
   "source": [
    "auto_df.head()"
   ]
  },
  {
   "cell_type": "markdown",
   "metadata": {},
   "source": [
    "The `.describe()` method can get the summary statistics of the data frame. Specify the argument `include` to get the summary statistics of certain variables, e.g. `include = \"all\"` for mix types, `include = [np.number]` for numerical columns, and `include = [\"O\"]` for objects."
   ]
  },
  {
   "cell_type": "code",
   "execution_count": null,
   "metadata": {
    "tags": [
     "hide-output"
    ]
   },
   "outputs": [],
   "source": [
    "auto_df.describe()"
   ]
  },
  {
   "cell_type": "code",
   "execution_count": null,
   "metadata": {
    "tags": [
     "hide-output"
    ]
   },
   "outputs": [],
   "source": [
    "auto_df.describe(include=\"all\")"
   ]
  },
  {
   "cell_type": "markdown",
   "metadata": {},
   "source": [
    "The dimension of a data frame can be found out by the same `.shape()` method as in `Numpy` arrays."
   ]
  },
  {
   "cell_type": "code",
   "execution_count": null,
   "metadata": {
    "tags": [
     "hide-output"
    ]
   },
   "outputs": [],
   "source": [
    "auto_df.shape"
   ]
  },
  {
   "cell_type": "markdown",
   "metadata": {},
   "source": [
    "Indexing in Pandas data frame is similar to indexing in `Numpy` arrays. A row, a column, or a submatrix can be accessed by the `.iloc[]` or `.loc[]` method. `iloc` is used to index by position, and `loc` is used to index by labels (row and column names). "
   ]
  },
  {
   "cell_type": "code",
   "execution_count": null,
   "metadata": {
    "tags": [
     "hide-output"
    ]
   },
   "outputs": [],
   "source": [
    "auto_df.iloc[:4, :2]"
   ]
  },
  {
   "cell_type": "code",
   "execution_count": null,
   "metadata": {
    "tags": [
     "hide-output"
    ]
   },
   "outputs": [],
   "source": [
    "auto_df.loc[[0, 1, 2, 3], [\"mpg\", \"cylinders\"]]"
   ]
  },
  {
   "cell_type": "markdown",
   "metadata": {},
   "source": [
    "An alternative way to select the first 4 rows."
   ]
  },
  {
   "cell_type": "code",
   "execution_count": null,
   "metadata": {
    "tags": [
     "hide-output"
    ]
   },
   "outputs": [],
   "source": [
    "auto_df[:4]"
   ]
  },
  {
   "cell_type": "markdown",
   "metadata": {},
   "source": [
    "The column names can be found out by `list` function or the `.columns` attribute."
   ]
  },
  {
   "cell_type": "code",
   "execution_count": null,
   "metadata": {
    "tags": [
     "hide-output"
    ]
   },
   "outputs": [],
   "source": [
    "print(list(auto_df))\n",
    "print(auto_df.columns)"
   ]
  },
  {
   "cell_type": "markdown",
   "metadata": {},
   "source": [
    "`.isnull()` and `.sum()` methods can be used to find out how many NaNs in each variables."
   ]
  },
  {
   "cell_type": "code",
   "execution_count": null,
   "metadata": {
    "tags": [
     "hide-output"
    ]
   },
   "outputs": [],
   "source": [
    "auto_df.isnull().sum()"
   ]
  },
  {
   "cell_type": "code",
   "execution_count": null,
   "metadata": {
    "tags": [
     "hide-output"
    ]
   },
   "outputs": [],
   "source": [
    "# after the previous steps, there are 397 obs in the data and only 5 with missing values. We can just drop the ones with missing values\n",
    "print(auto_df.shape)\n",
    "auto_df = auto_df.dropna()\n",
    "print(auto_df.shape)"
   ]
  },
  {
   "cell_type": "markdown",
   "metadata": {},
   "source": [
    "The type of variable(s) can be changed. The following example will change the cylinders into categorical variable"
   ]
  },
  {
   "cell_type": "code",
   "execution_count": null,
   "metadata": {
    "tags": [
     "hide-output"
    ]
   },
   "outputs": [],
   "source": [
    "auto_df[\"cylinders\"] = auto_df[\"cylinders\"].astype(\"category\")"
   ]
  },
  {
   "cell_type": "markdown",
   "metadata": {},
   "source": [
    "### Visualising data\n",
    "\n",
    "Refer a column of data frame by name, by using a `.column_name`. See the options in plt.plot for more."
   ]
  },
  {
   "cell_type": "code",
   "execution_count": null,
   "metadata": {
    "tags": [
     "hide-output"
    ]
   },
   "outputs": [],
   "source": [
    "plt.plot(auto_df.cylinders, auto_df.mpg, \"ro\")\n",
    "plt.show()"
   ]
  },
  {
   "cell_type": "markdown",
   "metadata": {},
   "source": [
    "The `.hist()` method can get the histogram of certain variables. Specify the argument `column` to get the histogram of a certain variable."
   ]
  },
  {
   "cell_type": "code",
   "execution_count": null,
   "metadata": {
    "tags": [
     "hide-output"
    ]
   },
   "outputs": [],
   "source": [
    "auto_df.hist(column=[\"cylinders\", \"mpg\"])\n",
    "plt.show()"
   ]
  },
  {
   "cell_type": "markdown",
   "metadata": {},
   "source": [
    "\n",
    "### Exercises"
   ]
  },
  {
   "cell_type": "markdown",
   "metadata": {},
   "source": [
    "1. This exercise is related to the **College** dataset [college.csv](https://github.com/pykale/transparentML/blob/main/data/College.csv). It contains a number of features for 777 different universities and colleges in the US.\n",
    "\n",
    "    a. Use the read_csv() function to read the data. Call the loaded data college_df. Print the first 20 rows of the loaded data. Make sure that you have the directory set to the correct location for the data.\n",
    "    ````{admonition} Click to show the answer!\n",
    "       :class: dropdown\n",
    "        import pandas as pd  \n",
    "        data_url = \"https://github.com/pykale/transparentML/raw/main/data/College.csv\"  \n",
    "\n",
    "        college_df = pd.read_csv(data_url, header=0, na_values=\"?\")   \n",
    "        college_df.head(20) \n",
    "        \n",
    "      ```{glue:figure} college_df\n",
    "      ```\n",
    "    ````\n",
    "\n",
    "    b. Find the number of variables/features in the dataset and print them.\n",
    "    ````{admonition} Click to show the answer!\n",
    "       :class: dropdown\n",
    "        print(\"Number of features in this dataset is \",college_df.shape[1])\n",
    "        print(\"The list of the features = \",list(college_df)) \n",
    "        \n",
    "       \n",
    "      ```{glue:} num_feature\n",
    "      ```\n",
    "      \n",
    "      ```{glue:} list_feature\n",
    "      ```\n",
    "       \n",
    "    ````\n",
    "    c. Use the describe() function to produce a numerical summary of the variables/features in the data set.\n",
    "    ````{admonition} Click to show the answer!\n",
    "       :class: dropdown\n",
    "        college_df.describe()\n",
    "        \n",
    "      ```{glue:figure} college_describe\n",
    "      ```\n",
    "      \n",
    "    ````\n",
    "    d. How many quantitative and qualitative featuress are the in this dataset? \n",
    "    ````{admonition} Click to show the answer!\n",
    "       :class: dropdown\n",
    "        print(\"Number of quantitative features in this dataset is %d and the number of qualitative features in this dataset is %d\" %(college_df.select_dtypes(include=np.number).shape[1],college_df.select_dtypes(include=object).shape[1]))\n",
    "        \n",
    "      ```{glue:figure} num_qn_ql_feature\n",
    "      ```\n",
    "      \n",
    "    ````\n",
    "    e. Use the hist() function to produce side-by-side histogram of any 4 variables/features chosen by you.\n",
    "    ````{admonition} Click to show the answer!\n",
    "       :class: dropdown\n",
    "        from matplotlib import pyplot as plt\n",
    "        college_df.hist(column=[\"Accept\", \"Books\", \"Grad.Rate\", \"Enroll\"])\n",
    "        plt.show()\n",
    "        \n",
    "       ![](../images/fig1_loading_data.png)\n",
    "      \n",
    "    ````\n",
    "    f. Continue exploring the data, and provide a brief summary of what you discover.  \n"
   ]
  }
 ],
 "metadata": {
  "celltoolbar": "Tags",
  "kernelspec": {
   "display_name": "Python 3 (ipykernel)",
   "language": "python",
   "name": "python3"
  },
  "language_info": {
   "codemirror_mode": {
    "name": "ipython",
    "version": 3
   },
   "file_extension": ".py",
   "mimetype": "text/x-python",
   "name": "python",
   "nbconvert_exporter": "python",
   "pygments_lexer": "ipython3",
   "version": "3.8.2"
  },
  "vscode": {
   "interpreter": {
    "hash": "1bda8b49161908208a6e3087b59be7e64a5f9b1866581a6eaef662e2ef65b61a"
   }
  }
 },
 "nbformat": 4,
 "nbformat_minor": 2
}
