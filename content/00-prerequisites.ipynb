{
 "cells": [
  {
   "cell_type": "markdown",
   "metadata": {},
   "source": [
    "# Topic 0: Prerequisites\n",
    "\n",
    "# 0.0 Overview\n",
    "\n",
    "**Expected time to complete**: 3 hours\n",
    "\n",
    "**Question**: What do you need to know before starting this course?\n",
    "\n",
    "**Objectives**\n",
    "- Write computer programs in Python\n",
    "- Compute with NumPy arrays\n",
    "- Analyse tabular data using `pandas`\n",
    "- Plot data using `matplotlib`\n",
    "\n",
    "Intro paragraph\n",
    "\n",
    "**Each section** should take no more than 30 minutes to complete.\n",
    "\n",
    "# 0.1 Python\n",
    "\n",
    "## 0.1.1 Running\n",
    "\n",
    "## 0.1.x Exercises\n",
    "\n",
    "min 3 max 5\n",
    "\n",
    "# 0.2 NumPy\n",
    "\n",
    "## 0.2.1 Exercises\n",
    "\n",
    "# 0.y Quiz\n",
    "\n",
    "_Not for now. To finish in the next cycle._ Complete [Quiz 0](https://forms.gle/8Q5Z7Z7Z7Z7Z7Z7Z7) to check your understanding of this topic. You are advised to score at least 50% to proceed to the next topic.\n",
    "\n",
    "# 0.z Summary\n",
    "\n",
    "In this topic, you learned how to:\n",
    "- Use ...\n",
    "\n",
    "# 0.a References and further reading\n",
    "\n",
    "This material is based on the following resources:\n",
    "- [Python](https://www.python.org/)"
   ]
  },
  {
   "cell_type": "code",
   "execution_count": null,
   "metadata": {},
   "outputs": [],
   "source": []
  }
 ],
 "metadata": {
  "kernelspec": {
   "display_name": "Python 3 (ipykernel)",
   "language": "python",
   "name": "python3"
  },
  "language_info": {
   "codemirror_mode": {
    "name": "ipython",
    "version": 3
   },
   "file_extension": ".py",
   "mimetype": "text/x-python",
   "name": "python",
   "nbconvert_exporter": "python",
   "pygments_lexer": "ipython3",
   "version": "3.9.12"
  },
  "vscode": {
   "interpreter": {
    "hash": "1bda8b49161908208a6e3087b59be7e64a5f9b1866581a6eaef662e2ef65b61a"
   }
  }
 },
 "nbformat": 4,
 "nbformat_minor": 2
}
