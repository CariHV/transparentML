{
 "cells": [
  {
   "cell_type": "markdown",
   "metadata": {},
   "source": [
    "# Prerequisites\n",
    "\n",
    "**Expected time to complete**: 3 hours\n",
    "\n",
    "**Question**: What do you need to know before starting this course?\n",
    "\n",
    "```{admonition} Objectives\n",
    "- Understand basic mathematical concepts required for this course\n",
    "- Write computer programs in Python\n",
    "- Compute with NumPy arrays\n",
    "- Analyse tabular data using `pandas`\n",
    "- Plot data using `matplotlib`\n",
    "```\n",
    "\n",
    "Intro paragraph to complete.\n",
    "\n",
    "## Basic Linear Algebra\n",
    "\n",
    "\n",
    "## Basic Probability and Statistics\n",
    "\n",
    "\n",
    "## Basic Python Programming\n",
    "\n",
    "**Running**\n",
    "\n",
    "Following the .gif below, click the rocket symbol (<i class=\"fas fa-rocket\"></i>) to launch this page as an interactive notebook in Google Colab (faster but requiring a Google account) or Binder.\n",
    "\n",
    "\n",
    "![Alt Text](https://source-separation.github.io/tutorial/_images/run_cloud.gif)\n",
    "<!-- \n",
    "https://youtu.be/seKOq-VMJgY?t=1082 -->\n",
    "\n",
    "Click the `Run Cell` button or press the keyboard shortcut `Ctrl`+`Enter` to execute the code in a cell.\n",
    "\n",
    "\n",
    "### Variables\n",
    "\n",
    "#### Basics\n",
    "<!-- ```{code-cell} ipython3\n",
    "a = 1\n",
    "``` -->\n",
    "\n",
    "- Variables are names for values.\n",
    "- In Python the `=` symbol assigns the value on the right to the name on the left.\n",
    "- The variable is created when a value is assigned to it.    \n",
    "- Variable Naming ([click to learn more about Python naming convention](https://namingconvention.org/python/))\n",
    "  - can only contain letters, digits, and underscore _ (typically used to separate words in long variable names)\n",
    "  - cannot start with a digit\n",
    "  - are case sensitive (age, Age and AGE are three different variables)\n",
    "\n",
    "Try the following code in the cell below to assign `1` to a variable `x` and `\"hello world\"` to a variable `string_varible`:"
   ]
  },
  {
   "cell_type": "code",
   "execution_count": null,
   "metadata": {},
   "outputs": [],
   "source": [
    "x = 1\n",
    "string_variable = \"Hello world\""
   ]
  },
  {
   "cell_type": "markdown",
   "metadata": {},
   "source": [
    "```{Note}\n",
    "Variables must be created before they are used. If a variable doesn't exist yet, or if the name has been mis-spelled, Python reports an error. \n",
    "```\n",
    "\n",
    "\n",
    "#### Variable Types\n",
    "\n",
    "- _Numbers_\n",
    "\n",
    "   - Integers (e.g., `1`, `2`, `3`) and floating point numbers (e.g., `1.0`, `2.5`, `3.14159`) are the two main numeric types in Python."
   ]
  },
  {
   "cell_type": "code",
   "execution_count": null,
   "metadata": {},
   "outputs": [],
   "source": [
    "y = 1.0\n",
    "z = 3.14"
   ]
  },
  {
   "cell_type": "markdown",
   "metadata": {},
   "source": [
    "- _Strings_\n",
    "\n",
    "   - Strings are sequences of characters.\n",
    "   - Strings are created by enclosing characters in single quotes (`'...'`) or double quotes (`\"...\"`).\n",
    "   - Strings can be concatenated (glued together) with the `+` operator, and repeated with `*`."
   ]
  },
  {
   "cell_type": "code",
   "execution_count": null,
   "metadata": {
    "tags": [
     "hide-output"
    ]
   },
   "outputs": [],
   "source": [
    "string_variable + \" \" + \"Python is fun!\""
   ]
  },
  {
   "cell_type": "code",
   "execution_count": null,
   "metadata": {
    "tags": [
     "hide-output"
    ]
   },
   "outputs": [],
   "source": [
    "3 * string_variable"
   ]
  },
  {
   "cell_type": "markdown",
   "metadata": {},
   "source": [
    "- _Booleans_\n",
    "\n",
    "   - Booleans are either `True` or `False`.\n",
    "   - Booleans are often used in `if` statements to control the flow of a program, or used in `while` or `for` loops to control the number of times a loop is executed."
   ]
  },
  {
   "cell_type": "code",
   "execution_count": null,
   "metadata": {},
   "outputs": [],
   "source": [
    "create_int_variable = True\n",
    "if create_int_variable:\n",
    "    new_int_variable = 123"
   ]
  },
  {
   "cell_type": "markdown",
   "metadata": {},
   "source": [
    "- _None_\n",
    "\n",
    "   - `None` is a special value that represents the absence of a value.\n",
    "   - `None` is the only value of the type `NoneType`.\n",
    "   - `None` is frequently used to represent the absence of a value, as when default arguments are not passed to a function.\n",
    "   - `None` is also frequently returned by functions that don't explicitly return anything in order to explicitly signal the absence of a return value.\n",
    "   - `None` is a singleton object, there is only one `None` object and it is unique.\n",
    "   - `None` is immutable, it cannot be changed in any way.\n",
    "   - `None` is comparable to any other object using the `is` operator, but it is never equal to any other object using the `==` operator.\n",
    "   - `None` is a singleton object, there is only one `None` object and it is unique."
   ]
  },
  {
   "cell_type": "markdown",
   "metadata": {},
   "source": [
    "- _Lists_\n",
    "   - Lists are ordered sequences of values.\n",
    "   - Lists are created by enclosing values in square brackets (`[...]`).\n",
    "   - Lists can contain values of different types.\n",
    "   - Lists can be indexed and sliced.\n",
    "   - Lists can be nested.\n",
    "   - Lists are mutable.\n",
    "   - Lists are dynamic.\n",
    "\n",
    "\n",
    "3. _Dictionaries_\n",
    "   - Dictionaries are unordered sets of key: value pairs.\n",
    "   - Dictionaries are created by enclosing pairs in curly braces (`{...}`).\n",
    "   - Dictionaries can contain values of different types.\n",
    "   - Dictionaries are indexed by keys, which can be any immutable type; strings and numbers can always be keys.\n",
    "   - Dictionaries are mutable.\n",
    "   - Dictionaries are dynamic.\n",
    "   - Dictionaries have no concept of order among elements.\n",
    "   - Dictionaries are sometimes found in other languages as “associative memories” or “associative arrays”.\n",
    "   - Dictionaries are sometimes found in other languages as “hashes”.\n",
    "   - Dictionaries are sometimes found in other languages as “maps”.\n",
    "   - Dictionaries are sometimes found in other languages as “hash tables”.\n",
    "   - Dictionaries are sometimes found in other languages as “associative lists”.\n",
    "\n",
    "4. _Tuples_\n",
    "   - Tuples are ordered sequences of values.\n",
    "   - Tuples are created by enclosing values in parentheses (`(...)`).\n",
    "   - Tuples can contain values of different types.\n",
    "   - Tuples can be indexed and sliced.\n",
    "<!-- 8. _Sets_\n",
    "1. _Frozensets_\n",
    "2.  _Bytes_ -->\n",
    "\n",
    "#### Indexing and Slicing\n",
    "\n",
    "Indexing is used to access a single element of a sequence (e.g., a string, a list, or a tuple).\n",
    "\n",
    "- Each position in the string (first, second, etc.) is given a number. This number is called an index or sometimes a subscript.\n",
    "- Indices are numbered from 0.\n",
    "- Use the position’s index in square brackets to get the character at that position."
   ]
  },
  {
   "cell_type": "code",
   "execution_count": null,
   "metadata": {
    "tags": [
     "hide-output"
    ]
   },
   "outputs": [],
   "source": [
    "string_variable[0]"
   ]
  },
  {
   "cell_type": "markdown",
   "metadata": {},
   "source": [
    "Slicing is used to access a subsequence of a sequence.\n",
    "- A part of a string is called a substring. A substring can be as short as a single character.\n",
    "- An item in a list is called an element. Whenever we treat a string as if it were a list, the string’s elements are its individual characters.\n",
    "- A slice is a part of a string (or, more generally, a part of any list-like thing).\n",
    "- We take a slice with the notation `[start:stop]`, where `start` is the integer index of the first element we want and `stop` is the integer index of the element just after the last element we want.\n",
    "- The difference between `stop` and `start` is the slice’s length.\n",
    "- Taking a slice does not change the contents of the original string. Instead, taking a slice returns a copy of part of the original string."
   ]
  },
  {
   "cell_type": "code",
   "execution_count": null,
   "metadata": {
    "tags": [
     "hide-output"
    ]
   },
   "outputs": [],
   "source": [
    "string_variable[0:5]"
   ]
  },
  {
   "cell_type": "markdown",
   "metadata": {},
   "source": [
    "#### Calculations\n",
    "\n",
    "Variables can be used in calculations as if they were values"
   ]
  },
  {
   "cell_type": "code",
   "execution_count": null,
   "metadata": {
    "tags": [
     "hide-output"
    ]
   },
   "outputs": [],
   "source": [
    "x + 1"
   ]
  },
  {
   "cell_type": "markdown",
   "metadata": {},
   "source": [
    "### Built-in Functions"
   ]
  },
  {
   "cell_type": "markdown",
   "metadata": {},
   "source": [
    "#### Print\n",
    "\n",
    "- `print` is a Python built-in function displays the value of an expression.\n",
    "- Provide values to the function (i.e., the things to print) in parentheses."
   ]
  },
  {
   "cell_type": "code",
   "execution_count": null,
   "metadata": {
    "tags": [
     "hide-output"
    ]
   },
   "outputs": [],
   "source": [
    "print(string_variable)"
   ]
  },
  {
   "cell_type": "code",
   "execution_count": null,
   "metadata": {
    "tags": [
     "hide-output"
    ]
   },
   "outputs": [],
   "source": [
    "print(string_variable[0])"
   ]
  },
  {
   "cell_type": "code",
   "execution_count": null,
   "metadata": {
    "tags": [
     "hide-output"
    ]
   },
   "outputs": [],
   "source": [
    "print(string_variable[0:5])"
   ]
  },
  {
   "cell_type": "code",
   "execution_count": null,
   "metadata": {
    "tags": [
     "hide-output"
    ]
   },
   "outputs": [],
   "source": [
    "print(x, \"+ 1 =\", x + 1)"
   ]
  },
  {
   "cell_type": "markdown",
   "metadata": {},
   "source": [
    "#### Type\n",
    "\n",
    "- The `type` function returns the type of an expression."
   ]
  },
  {
   "cell_type": "code",
   "execution_count": null,
   "metadata": {
    "tags": [
     "hide-output"
    ]
   },
   "outputs": [],
   "source": [
    "type(string_variable)"
   ]
  },
  {
   "cell_type": "code",
   "execution_count": null,
   "metadata": {
    "tags": [
     "hide-output"
    ]
   },
   "outputs": [],
   "source": [
    "type(x)"
   ]
  },
  {
   "cell_type": "markdown",
   "metadata": {},
   "source": [
    "\n",
    "### Exercises\n",
    "\n",
    "min 3 max 5"
   ]
  },
  {
   "cell_type": "markdown",
   "metadata": {},
   "source": [
    "## NumPy\n",
    "\n",
    "### Exercises\n",
    "\n",
    "## Quiz\n",
    "\n",
    "_Not for now. To finish in the next cycle._ Complete [Quiz 0](https://forms.gle/8Q5Z7Z7Z7Z7Z7Z7Z7) to check your understanding of this topic. You are advised to score at least 50% to proceed to the next topic.\n",
    "\n",
    "## Summary\n",
    "\n",
    "In this topic, you learned how to:\n",
    "- Use ...\n",
    "\n",
    "## References and further reading\n",
    "\n",
    "This material is based on the following resources:\n",
    "- [Python](https://www.python.org/)"
   ]
  },
  {
   "cell_type": "code",
   "execution_count": null,
   "metadata": {},
   "outputs": [],
   "source": []
  }
 ],
 "metadata": {
  "celltoolbar": "Tags",
  "kernelspec": {
   "display_name": "Python 3 (ipykernel)",
   "language": "python",
   "name": "python3"
  },
  "language_info": {
   "codemirror_mode": {
    "name": "ipython",
    "version": 3
   },
   "file_extension": ".py",
   "mimetype": "text/x-python",
   "name": "python",
   "nbconvert_exporter": "python",
   "pygments_lexer": "ipython3",
   "version": "3.9.7"
  },
  "vscode": {
   "interpreter": {
    "hash": "86bebae5cc7cea36980a1c5f8c0c180bdb90db2354d6524c00550a599e718092"
   }
  }
 },
 "nbformat": 4,
 "nbformat_minor": 2
}
