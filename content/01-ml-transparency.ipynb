{
 "cells": [
  {
   "cell_type": "markdown",
   "metadata": {},
   "source": [
    "# Intro: Machine Learning & Transparency\n",
    "\n",
    "**Question**: What is machine learning and what is AI transparency?\n",
    "\n",
    "```{admonition} Objectives\n",
    "- Understand real-world datasets used in this course\n",
    "- Understand key ingredients of machine learning\n",
    "- Understand the process in machine learning\n",
    "- Understand AI transparency definition & taxonomy\n",
    "```\n",
    "\n",
    "**Expected time to complete**: 4 hours\n",
    "\n",
    "Machine learning takes data as input and produces a model as output. The model is a mathematical representation of the data. The model can be used to make predictions on new data. The model can also be used to explain the data. In this chapter, we will learn about the key ingredients of machine learning and the process of machine learning. We will also learn about the definition and taxonomy of AI transparency. We will start with the real-world datasets used in this course to see how machine learning can be used in real-world.\n",
    "\n",
    "```{note}\n",
    "If you do not have prior knowledge/experience with linear algebra, Python programming, and probability and statistics, please go through {doc}`00-prerequisites` before starting this course.\n",
    "```\n",
    "\n",
    "## Data and Problems\n",
    "\n",
    "In this course, we will use real-world datasets to introduce machine learning from the perspective of AI transparency. We will use the following datasets from the textbook {cite}`james2021statistical`:\n",
    "\n",
    "```{list-table} Datasets used in this course, from the textbook\n",
    ":header-rows: 1\n",
    ":widths: 5 35 20\n",
    ":name: datasets-table\n",
    "* - Name\n",
    "  - Data provided\n",
    "  - Prediction problem\n",
    "* - Auto \n",
    "  - Gas mileage, horsepower, and other information for cars.\n",
    "  - Predict gas mileage for a car.\n",
    "```\n",
    "\n",
    "### subsection\n"
   ]
  },
  {
   "cell_type": "markdown",
   "metadata": {},
   "source": [
    "### Exercises\n",
    "\n",
    "min 3 max 5\n",
    "\n",
    "## Quiz\n",
    "\n",
    "_Not for now. To finish in the next cycle._ Complete [Quiz](https://forms.gle/8Q5Z7Z7Z7Z7Z7Z7Z7) to check your understanding of this topic. You are advised to score at least 50% to proceed to the next topic.\n",
    "\n",
    "## Summary\n",
    "\n",
    "In this topic, you learned how to:\n",
    "- Use ...\n",
    "\n",
    "## References and further reading\n",
    "\n",
    "This material is based on the following resources:\n",
    "- Reference 1"
   ]
  }
 ],
 "metadata": {
  "kernelspec": {
   "display_name": "Python 3.9.12 64-bit",
   "language": "python",
   "name": "python3"
  },
  "language_info": {
   "name": "python",
   "version": "3.9.12"
  },
  "vscode": {
   "interpreter": {
    "hash": "1bda8b49161908208a6e3087b59be7e64a5f9b1866581a6eaef662e2ef65b61a"
   }
  }
 },
 "nbformat": 4,
 "nbformat_minor": 2
}
