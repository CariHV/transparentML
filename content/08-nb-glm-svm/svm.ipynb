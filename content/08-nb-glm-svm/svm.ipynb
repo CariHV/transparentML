{
 "cells": [
  {
   "cell_type": "markdown",
   "metadata": {},
   "source": [
    "# Support vector machines\n",
    "\n",
    "In this section, we discuss the support vector machine (SVM), an approach for classification that was developed in the computer science community in the 1990s and that has grown in popularity since then. SVMs have been shown to perform well in a variety of settings, and are often considered one of the best \"out of the box\" classifiers."
   ]
  },
  {
   "cell_type": "markdown",
   "metadata": {},
   "source": [
    "<!-- - [Lab: 9.6.1 Support Vector Classifier](#9.6.1-Support-Vector-Classifier)\n",
    "- [Lab: 9.6.2 Support Vector Machine](#9.6.2-Support-Vector-Machine)\n",
    "- [Lab: 9.6.3 ROC Curves](#9.6.3-ROC-Curves)\n",
    "- [Lab: 9.6.4 SVM with Multiple Classes](#9.6.4-SVM-with-Multiple-Classes)\n",
    "- [Lab: 9.6.5 Application to Gene Expression Data](#9.6.5-Application-to-Gene-Expression-Data) -->"
   ]
  },
  {
   "cell_type": "code",
   "execution_count": null,
   "metadata": {},
   "outputs": [],
   "source": [
    "# %load ../standard_import.txt\n",
    "import pandas as pd\n",
    "import numpy as np\n",
    "import matplotlib.pyplot as plt\n",
    "import seaborn as sns\n",
    "\n",
    "from sklearn.preprocessing import label_binarize\n",
    "from sklearn.model_selection import train_test_split, GridSearchCV\n",
    "from sklearn.svm import SVC, LinearSVC\n",
    "from sklearn.discriminant_analysis import LinearDiscriminantAnalysis\n",
    "from sklearn.metrics import confusion_matrix, roc_curve, auc, classification_report\n",
    "\n",
    "%matplotlib inline"
   ]
  },
  {
   "cell_type": "markdown",
   "metadata": {},
   "source": [
    "## Maximum margin classifier (hard margin)\n",
    "\n",
    "In this section, we define a hyperplane and introduce the concept of an optimal separating hyperplane.\n",
    "\n",
    "In a $D$-dimensional space, a hyperplane is a flat affine subspace of dimension $D − 1$. For instance, in two dimensions, a hyperplane is a flat one-dimensional subspace—in other words, a line. In three dimensions, a hyperplane is a flat two-dimensional subspace—that is, a plane. In $D > 3$ dimensions, it can be hard to visualize a hyperplane, but the notion of a $(D − 1)$-dimensional flat subspace still applies.\n",
    "\n",
    "The mathematical definition of a hyperplane is quite simple. In two dimensions, a hyperplane is defined by the equation,\n",
    "\n",
    "$$\n",
    "\\beta_0 + \\beta_1 x_1 + \\beta_2 x_2 = 0\n",
    "$$\n",
    "\n",
    "where $\\beta_0, \\beta_1, \\beta_2$ are parameters. When we say that the above equation “defines” the hyperplane, we mean that any $\\mathbf{x} = [x_1, x_2]^\\top $ satisfies the equation is a point on the hyperplane. Note the equation above is simply the equation of a line, since indeed in two dimensions a hyperplane is a line. In the $D$-dimensional case, the equation defining a hyperplane is\n",
    "\n",
    "$$\n",
    "\\beta_0 + \\beta_1 x_1 + \\beta_2 x_2 + \\cdots + \\beta_D x_D = 0\n",
    "$$\n",
    "\n",
    "where $\\beta_0, \\beta_1, \\beta_2, \\ldots, \\beta_D$ are parameters. In this equation, any $\\mathbf{x} = [x_1, x_2, \\ldots, x_D]^\\top$ satisfies the above equation is a point on the hyperplane. If $\\mathbf{x} $ does not satisfy the equation, e.g.\n",
    "\n",
    "$$\n",
    "\\beta_0 + \\beta_1 x_1 + \\beta_2 x_2 + \\cdots + \\beta_D x_D > 0\n",
    "$$\n",
    "\n",
    "then $\\mathbf{x} $ is on one side of the hyperplane, and if\n",
    "\n",
    "$$\n",
    "\\beta_0 + \\beta_1 x_1 + \\beta_2 x_2 + \\cdots + \\beta_D x_D < 0\n",
    "$$\n",
    "\n",
    "then $\\mathbf{x} $ is on the other side of the hyperplane. So we can think of the hyperplane as dividing $D$-dimensional space into two halves. One can easily determine on which side of the hyperplane a point lies by simply calculating\n",
    "the sign of the left hand side of the hyperplane equation. The following code plots a hyperplane in two dimensions."
   ]
  },
  {
   "cell_type": "code",
   "execution_count": null,
   "metadata": {},
   "outputs": [],
   "source": [
    "# plot hyperplane\n",
    "x = np.arange(-1.5, 1.51, 0.01)\n",
    "y = np.arange(-1.5, 1.51, 0.01)\n",
    "\n",
    "X, Y = np.meshgrid(x, y)\n",
    "zz = np.array([X.ravel(), Y.ravel()]).T\n",
    "Z = zz[:, 0] * 2 + zz[:, 1] * 3 + 1\n",
    "Z[np.where(Z > 0)] = 1\n",
    "Z[np.where(Z <= 0)] = -1\n",
    "Z = Z.reshape(X.shape)\n",
    "plt.contourf(X, Y, Z, cmap=plt.cm.Paired, alpha=0.2)\n",
    "plt.show()"
   ]
  },
  {
   "cell_type": "markdown",
   "metadata": {},
   "source": [
    "### Classification Using a Separating Hyperplane\n",
    "\n",
    "Suppose we have a set of observations $\\mathbf{x}_1, \\mathbf{x}_2, \\ldots, \\mathbf{x}_N$ in $D$-dimensional space\n",
    "\n",
    "$$\n",
    "\\mathbf{x}_1 = \\begin{bmatrix} x_{11} \\\\ x_{12} \\\\ \\vdots \\\\ x_{1D} \\end{bmatrix}, \\ldots, \\mathbf{x}_N = \\begin{bmatrix} x_{N1} \\\\ x_{N2} \\\\ \\vdots \\\\ x_{ND} \\end{bmatrix},\n",
    "$$\n",
    "\n",
    "and that these observations fall into two classes, $y_1, \\ldots, y_N \\in \\{-1, 1\\}$, where 1 represents one class and -1 the other class. We also have a test observation $\\mathbf{x}^* = [x^*_1, \\ldots, x^*_N]^\\top$ that we would like to classify. We can do so by finding the hyperplane that separates the two classes. Such a hyperplane is known as an separating hyperplane. \n",
    "\n",
    "We can label the observations from the blue class as $ y_i = 1 $ and those from the purple class as $ y_i = −1 $. Then a separating hyperplane has the property that\n",
    "\n",
    "$$\n",
    "\\beta_0 + \\beta_1 x_{i1} + \\beta_2 x_{i2} + \\cdots + \\beta_D x_{iD} > 0, \\text{ if } y_i = 1\n",
    "$$\n",
    "\n",
    "and\n",
    "\n",
    "$$\n",
    "\\beta_0 + \\beta_1 x_{i1} + \\beta_2 x_{i2} + \\cdots + \\beta_D x_{iD} < 0, \\text{ if } y_i = -1.\n",
    "$$\n",
    "\n",
    "Equivalently, we can write this as\n",
    "\n",
    "$$\n",
    "y_i(\\beta_0 + \\beta_1 x_{i1} + \\beta_2 x_{i2} + \\cdots + \\beta_D x_{iD}) > 0, \\text{ for } i = 1, \\ldots, N.\n",
    "$$\n",
    "\n",
    "```{figure} https://raw.githubusercontent.com/pykale/transparentML/main/content/images/svm/svm2.png\n",
    "---\n",
    "width: 700px\n",
    "name: svm2\n",
    "figclass: margin-caption\n",
    "---\n",
    "Two classes of observations are shown in blue and in purple, respectively. Left: Three separating hyperplanes, out of many possible, are shown in black. Right: A separating hyperplane is shown in black. The blue and purple grid indicates the decision rule made by a classifier based on this separating hyperplane: a test observation that falls in the blue portion of the grid will be assigned to the blue class, and one that falls in the purple portion of the grid will be assigned to the purple class (figure source: [https://trevorhastie.github.io/ISLR/](https://trevorhastie.github.io/ISLR/)).\n",
    "```\n",
    "\n",
    "A shown in {numref}`svm2`, if a separating hyperplane exists, we can use it to construct a very natural classifier: a test observation is assigned a class depending on which side of the hyperplane it is located. "
   ]
  },
  {
   "cell_type": "markdown",
   "metadata": {},
   "source": [
    "### The maximum margin classifier\n",
    "\n",
    "In general, if the data can be perfectly separated using a hyperplane, then there will in fact exist an infinite number of such hyperplanes. This is because a given separating hyperplane can usually be shifted a tiny bit up or down, or rotated, without coming into contact with any of the observations.\n",
    "\n",
    "A natural choice is the _maximal margin hyperplane_ (also known as the optimal separating hyperplane), which is the separating hyperplane that is farthest from the training observations. That is, we can compute the (perpendicular) distance from each training observation to a given separating hyperplane; the smallest such distance is the minimal distance from the observations to the hyperplane, and is known as the margin. The maximal margin hyperplane is the separating hyperplane for which the margin is margin largest—that is, it is the hyperplane that has the farthest minimum distance to the training observations. We can then classify a test observation based on which side of the maximal margin hyperplane it lies. This is known as the maximal margin classifier. We hope that a classifier that has a large margin on the training data will also have a large margin on the test data, and hence will classify the test observations correctly. \n",
    "\n",
    "```{figure} https://raw.githubusercontent.com/pykale/transparentML/main/content/images/svm/svm3.png\n",
    "---\n",
    "width: 400px\n",
    "name: svm3\n",
    "figclass: margin-caption\n",
    "---\n",
    "Two classes of observations are shown in blue and in purple, respectively. The maximal margin hyperplane is shown as a solid line. The margin is the distance from the solid line to either of the dashed lines. The two blue points and the purple point that lie on the dashed lines are the support vectors, and the distance from those points to the hyperplane is indicated by arrows. The purple and blue grid indicates the decision rule made by a classifier based on this separating hyperplane.\n",
    "```\n",
    "\n",
    "{numref}`svm3` shows a maximal margin hyperplane. Comparing to the right-hand panel of {numref}`svm2`, we see that the maximal margin hyperplane in {numref}`svm3` results in a greater minimal distance between the observations and the separating hyperplane—that is, a larger margin. We can also see that three training observations are equidistant from the maximal margin hyperplane and lie along the dashed lines indicating the width of the margin. These three observations are known as _support vectors_, and the distance from the support vectors to the hyperplane is known as the _margin width_.\n"
   ]
  },
  {
   "cell_type": "markdown",
   "metadata": {},
   "source": [
    "### Construction of maximum margin classifier\n",
    "\n",
    "The maximal margin hyperplane is the solution to the following optimization problem\n",
    "\n",
    "```{math}\n",
    ":label: eq:max-margin-classifier\n",
    "\\begin{aligned}\n",
    "& \\max_{\\beta_0, \\beta_1, \\ldots, \\beta_D} M \\\\\n",
    "& \\text{subject to } \\sum_{j=1}^D \\beta_j^2 = 1 ,\\\\\n",
    "& y_i(\\beta_0 + \\beta_1 x_{i1} + \\beta_2 x_{i2} + \\cdots + \\beta_D x_{iD}) \\geq M, \\text{ for } i = 1, \\ldots, N.\n",
    "\\end{aligned}\n",
    "```\n",
    "\n",
    "where $ y_i(\\beta_0 + \\beta_1 x_{i1} + \\beta_2 x_{i2} + \\cdots + \\beta_D x_{iD}) $ in the constraint represents the perpendicular distance from the $i\\text{th}$ observation to the hyperplane. This constraint guarantees that each observation is on the correct side of the hyperplane and at least a distance $ M $ from the hyperplane. Therefore, $M$ represents the margin of our hyperplane, and the optimization problem chooses $ \\beta_0, \\beta_1, \\ldots, \\beta_D $ to maximize M. This is exactly the definition of the maximal margin hyperplane! The problem {eq}`eq:max-margin-classifier` can be solved efficiently via quadratic programming, but details of this optimization are outside of the scope of this course."
   ]
  },
  {
   "cell_type": "markdown",
   "metadata": {},
   "source": [
    "## Support vector classifier (soft margin)\n",
    "\n",
    "### The non-separable case\n",
    "\n",
    "The maximal margin classifier is a very natural way to perform classification, if a separating hyperplane exists. However, in many cases no separating hyperplane exists, and so there is no maximal margin classifier, as shown in {numref}`svm4`. \n",
    "\n",
    "```{figure} https://raw.githubusercontent.com/pykale/transparentML/main/content/images/svm/svm4.png\n",
    "---\n",
    "width: 400px\n",
    "name: svm4\n",
    "figclass: margin-caption\n",
    "---\n",
    "Two classes of observations are shown in blue and in purple, respectively. The two classes are not separable by a hyperplane, and so the maximal margin classifier cannot be used.\n",
    "```\n",
    "\n",
    "In this case, we might be willing to consider allowing some observations to be on the incorrect side of the margin, or even the incorrect side of the hyperplane, rather than seeking the largest possible margin so that every observation is not only on the correct side of the hyperplane but also on the correct side of the margin. This is the idea behind the _support vector classifier_, also known as the _soft margin classifier_. \n",
    "\n",
    "```{figure} https://raw.githubusercontent.com/pykale/transparentML/main/content/images/svm/svm5.png\n",
    "---\n",
    "width: 700px\n",
    "name: svm5\n",
    "figclass: margin-caption\n",
    "---\n",
    "Left: Two classes of observations are shown in blue and in purple, along with the maximal margin hyperplane. Right: An additional blue observation has been added, leading to a dramatic shift in the maximal margin hyperplane shown as a solid line. The dashed line indicates the maximal margin hyperplane that was obtained in the absence of this additional point.\n",
    "```\n",
    "\n",
    "An example is shown in the left-hand panel of {numref}`svm5`. Most of the observations are on the correct side of the margin.\n",
    "However, a small subset of the observations are on the wrong side of the margin.\n",
    "\n",
    "An observation can be not only on the wrong side of the margin, but also on the wrong side of the hyperplane. In fact, when there is no separating hyperplane, such a situation is inevitable. Observations on the wrong side of the hyperplane correspond to training observations that are misclassified by the support vector classifier. The right-hand panel of {numref}`svm5` illustrates\n",
    "such a scenario.\n",
    "\n",
    "```{figure} https://raw.githubusercontent.com/pykale/transparentML/main/content/images/svm/svm6.png\n",
    "---\n",
    "width: 700px\n",
    "name: svm6\n",
    "figclass: margin-caption\n",
    "---\n",
    "Left: A support vector classifier was fit to a small data set. The hyperplane is shown as a solid line and the margins are shown as dashed lines. Purple observations: Observations 3, 4, 5, and 6 are on the correct side of the margin, observation 2 is on the margin, and observation 1 is on the wrong side of the margin. Blue observations: Observations 7 and 10 are on the correct side of the margin, observation 9 is on the margin, and observation 8 is on the wrong side of the margin. No observations are on the wrong side of the hyperplane. Right: Same as left panel with two additional points, 11 and 12. These two observations are on the wrong side of the hyperplane and the wrong side of the margin.\n",
    "```"
   ]
  },
  {
   "cell_type": "markdown",
   "metadata": {},
   "source": [
    "### Construction of support vector classifier\n",
    "\n",
    "The support vector classifier classifies a test observation depending on which side of a hyperplane it lies. The hyperplane is chosen to correctly separate most of the training observations into the two classes, but may misclassify a few observations. It is the solution to the optimization problem\n",
    "\n",
    "```{math}\n",
    ":label: eq:soft-margin-classifier\n",
    "\\begin{aligned}\n",
    "& \\max_{\\beta_0, \\beta_1, \\ldots, \\beta_D, \\epsilon_1, \\ldots, \\epsilon_N} M \\\\\n",
    "& \\text{subject to } \\sum_{j=1}^D \\beta_j^2 = 1 ,\\\\\n",
    "& y_i(\\beta_0 + \\beta_1 x_{i1} + \\beta_2 x_{i2} + \\cdots + \\beta_D x_{iD}) \\geq M(1 - \\epsilon_i),\\\\\n",
    "& \\epsilon_i \\geq 0, \\sum_{i = 1}^N \\epsilon_i \\leq C, \\text{ for } i = 1, \\ldots, N,\n",
    "\\end{aligned}\n",
    "```\n",
    "\n",
    "where $ \\epsilon_i $ is a slack variable that measures the amount by which the $i\\text{th}$ observation is on the wrong side of the margin. The slack variables are constrained to be non-negative, and the constraint $ \\sum_{i = 1}^N \\epsilon_i \\leq C $ places an upper bound on the total amount by which the observations can be on the wrong side of the margin. The parameter $ C $ is a tuning parameter that controls the trade-off between the two competing goals of the support vector classifier: maximizing the margin and minimizing the number of training observations that are misclassified. When $ C $ is very large, the support vector classifier will attempt to maximize the margin, and so it will misclassify very few training observations. When $ C $ is very small, the support vector classifier will attempt to minimize the number of training observations that are misclassified, and so it will have a smaller margin. In practice, $ C $ is often tuned using cross-validation. {numref}`svm7` illustrates the effect of $ C $ on the support vector classifier.\n",
    "\n",
    "```{figure} https://raw.githubusercontent.com/pykale/transparentML/main/content/images/svm/svm7.png\n",
    "---\n",
    "width: 700px\n",
    "name: svm7\n",
    "figclass: margin-caption\n",
    "---\n",
    "A support vector classifier was fit using four different values of the tuning parameter $ C $ of Equation {eq}`eq:soft-margin-classifier`. The largest value of $ C $ was used in the top left panel, and smaller values were used in the top right, bottom left, and bottom right panels. When $ C $ is large, then there is a high tolerance for observations being on the wrong side of the margin, and so the margin will be large. As $ C $ decreases, the tolerance for observations being on the wrong side of the margin decreases, and the margin narrows.\n",
    "```"
   ]
  },
  {
   "cell_type": "markdown",
   "metadata": {},
   "source": [
    "## Support vector machines\n",
    "\n",
    "### Classification with non-linear decision boundaries\n",
    "\n",
    "The support vector classifier is a natural approach for classification in the two-class setting, if the boundary between the two classes is linear. However, in practice we are sometimes faced with non-linear class boundaries, as the example shown in the left panel of {numref}`svm8`. \n",
    "\n",
    "```{figure} https://raw.githubusercontent.com/pykale/transparentML/main/content/images/svm/svm8.png\n",
    "---\n",
    "width: 700px\n",
    "name: svm8\n",
    "figclass: margin-caption\n",
    "---\n",
    "Left: A support vector classifier was fit to a small data set. The hyperplane is shown as a solid line and the margins are shown as dashed lines. Purple observations: Observations 3, 4, 5, and 6 are on the correct side of the margin, observation 2 is on the margin, and observation 1 is on the wrong side of the margin. Blue observations: Observations 7 and 10 are on the correct side of the margin, observation 9 is on the margin, and observation 8 is on the wrong side of the margin. No observations are on the wrong side of the hyperplane. Right: Same as left panel with two additional points, 11 and 12. These two observations are on the wrong side of the hyperplane and the wrong side of the margin.\n",
    "```\n",
    "\n",
    "In {doc}`Linear regression <../02-linear-reg/extension-limitation>`, we discussed using higher-order polynomials as a way to fit a non-linear relationship between the predictors and the response. Foe example, rather than fitting a support vector classifier using $D$ features: $ x_{1}, x_{2}, \\ldots, x_{D} $, we could fit a support vector classifier using $ 2 \\times D $ features: $ x_{1}, x_{2}, \\ldots, x_{D'}, x_{1}^2, x_{2}^2, \\ldots, x_{D'}^2 $. Then the optimisation problem becomes\n",
    "\n",
    "```{math}\n",
    ":label: eq:svm-polynomial\n",
    "\\begin{aligned}\n",
    "& \\max_{\\beta_0, \\beta_{1,1}, \\ldots, \\beta_{D,2}, \\epsilon_1, \\ldots, \\epsilon_N} M \\\\\n",
    "& \\text{subject to } y_i\\left(\\beta_0 + \\sum_{j=1}^{D} \\beta_{j,1} x_{ij} + \\beta_{j,2} x_{ij}^2\\right) \\geq M(1 - \\epsilon_i), \\\\\n",
    "& \\sum_{j=1}^{D} \\beta_{j,1}^2 + \\beta_{j,2}^2 = 1, \\epsilon_i \\geq 0, \\sum_{i = 1}^N \\epsilon_i \\leq C, \\text{ for } i = 1, \\ldots, N,\n",
    "\\end{aligned}\n",
    "```\n",
    "\n",
    "the decision boundary that results from Equation {eq}`eq:svm-polynomial` is in fact linear. But in the original feature space, the decision boundary is of the form $ q(x) = 0 $, where $ q(\\cdot) $ is a quadratic polynomial, and its solutions are generally non-linear.\n",
    "\n",
    "\n",
    "### The support vector machine and kernel trick\n",
    "\n",
    "The _support vector machine (SVM)_ is an extension of the support vector classifier that results from enlarging the feature space in a specific way, using _kernels_.\n",
    "\n",
    "```{figure} https://raw.githubusercontent.com/pykale/transparentML/main/content/images/svm/svm9.png\n",
    "---\n",
    "width: 700px\n",
    "name: svm9\n",
    "figclass: margin-caption\n",
    "---\n",
    "Left: An SVM with a polynomial kernel of degree 3 is applied to the non-linear data from {numref}`svm8`, resulting in a far more appropriate decision rule. Right: An SVM with a radial kernel is applied. In this example, either kernel is capable of capturing the decision boundary.\n",
    "```"
   ]
  },
  {
   "cell_type": "markdown",
   "metadata": {},
   "source": [
    "## LAB"
   ]
  },
  {
   "cell_type": "markdown",
   "metadata": {},
   "source": [
    "### 9.6.1 Support Vector Classifier"
   ]
  },
  {
   "cell_type": "markdown",
   "metadata": {},
   "source": [
    "Define a function to plot a classifier with support vectors."
   ]
  },
  {
   "cell_type": "code",
   "execution_count": null,
   "metadata": {},
   "outputs": [],
   "source": [
    "def plot_svc(svc, X, y, h=0.02, pad=0.25):\n",
    "    x_min, x_max = X[:, 0].min() - pad, X[:, 0].max() + pad\n",
    "    y_min, y_max = X[:, 1].min() - pad, X[:, 1].max() + pad\n",
    "    xx, yy = np.meshgrid(np.arange(x_min, x_max, h), np.arange(y_min, y_max, h))\n",
    "    print(xx.shape)\n",
    "    print(yy)\n",
    "    Z = svc.predict(np.c_[xx.ravel(), yy.ravel()])\n",
    "    Z = Z.reshape(xx.shape)\n",
    "    plt.contourf(xx, yy, Z, cmap=plt.cm.Paired, alpha=0.2)\n",
    "\n",
    "    plt.scatter(X[:, 0], X[:, 1], s=70, c=y, cmap=plt.cm.Paired)\n",
    "    # Support vectors indicated in plot by vertical lines\n",
    "    sv = svc.support_vectors_\n",
    "    plt.scatter(\n",
    "        sv[:, 0], sv[:, 1], c=\"k\", marker=\"x\", s=100, alpha=0.5\n",
    "    )  # , linewidths=1)\n",
    "    plt.xlim(x_min, x_max)\n",
    "    plt.ylim(y_min, y_max)\n",
    "    plt.xlabel(\"X1\")\n",
    "    plt.ylabel(\"X2\")\n",
    "    plt.show()\n",
    "    print(\"Number of support vectors: \", svc.support_.size)"
   ]
  },
  {
   "cell_type": "code",
   "execution_count": null,
   "metadata": {},
   "outputs": [],
   "source": [
    "# Generating random data: 20 observations of 2 features and divide into two classes.\n",
    "np.random.seed(5)\n",
    "X = np.random.randn(20, 2)\n",
    "y = np.repeat([1, -1], 10)\n",
    "\n",
    "X[y == -1] = X[y == -1] + 1\n",
    "plt.scatter(X[:, 0], X[:, 1], s=70, c=y, cmap=plt.cm.Paired)\n",
    "plt.xlabel(\"X1\")\n",
    "plt.ylabel(\"X2\")"
   ]
  },
  {
   "cell_type": "code",
   "execution_count": null,
   "metadata": {},
   "outputs": [],
   "source": [
    "y"
   ]
  },
  {
   "cell_type": "code",
   "execution_count": null,
   "metadata": {},
   "outputs": [],
   "source": [
    "# Support Vector Classifier with linear kernel.\n",
    "svc = SVC(C=1.0, kernel=\"linear\")\n",
    "svc.fit(X, y)\n",
    "\n",
    "plot_svc(svc, X, y)"
   ]
  },
  {
   "cell_type": "code",
   "execution_count": null,
   "metadata": {},
   "outputs": [],
   "source": [
    "# When using a smaller cost parameter (C=0.1) the margin is wider, resulting in more support vectors.\n",
    "svc2 = SVC(C=0.1, kernel=\"linear\")\n",
    "svc2.fit(X, y)\n",
    "plot_svc(svc2, X, y)"
   ]
  },
  {
   "cell_type": "code",
   "execution_count": null,
   "metadata": {},
   "outputs": [],
   "source": [
    "# Select the optimal C parameter by cross-validation\n",
    "tuned_parameters = [{\"C\": [0.001, 0.01, 0.1, 1, 5, 10, 100]}]\n",
    "clf = GridSearchCV(\n",
    "    SVC(kernel=\"linear\"),\n",
    "    tuned_parameters,\n",
    "    cv=10,\n",
    "    scoring=\"accuracy\",\n",
    "    return_train_score=True,\n",
    ")\n",
    "clf.fit(X, y)\n",
    "clf.cv_results_"
   ]
  },
  {
   "cell_type": "code",
   "execution_count": null,
   "metadata": {},
   "outputs": [],
   "source": [
    "# 0.001 is best according to GridSearchCV.\n",
    "clf.best_params_"
   ]
  },
  {
   "cell_type": "code",
   "execution_count": null,
   "metadata": {},
   "outputs": [],
   "source": [
    "# Generating test data\n",
    "np.random.seed(1)\n",
    "X_test = np.random.randn(20, 2)\n",
    "y_test = np.random.choice([-1, 1], 20)\n",
    "X_test[y_test == 1] = X_test[y_test == 1] - 1\n",
    "\n",
    "plt.scatter(X_test[:, 0], X_test[:, 1], s=70, c=y_test, cmap=plt.cm.Paired)\n",
    "plt.xlabel(\"X1\")\n",
    "plt.ylabel(\"X2\")"
   ]
  },
  {
   "cell_type": "code",
   "execution_count": null,
   "metadata": {},
   "outputs": [],
   "source": [
    "# svc2 : C = 0.1\n",
    "y_pred = svc2.predict(X_test)\n",
    "pd.DataFrame(confusion_matrix(y_test, y_pred), index=svc.classes_, columns=svc.classes_)"
   ]
  },
  {
   "cell_type": "code",
   "execution_count": null,
   "metadata": {},
   "outputs": [],
   "source": [
    "svc3 = SVC(C=0.001, kernel=\"linear\")\n",
    "svc3.fit(X, y)\n",
    "\n",
    "# svc3 : C = 0.001\n",
    "y_pred = svc3.predict(X_test)\n",
    "pd.DataFrame(\n",
    "    confusion_matrix(y_test, y_pred), index=svc3.classes_, columns=svc3.classes_\n",
    ")\n",
    "# The misclassification is the same"
   ]
  },
  {
   "cell_type": "code",
   "execution_count": null,
   "metadata": {},
   "outputs": [],
   "source": [
    "# Changing the test data so that the classes are really seperable with a hyperplane.\n",
    "X_test[y_test == 1] = X_test[y_test == 1] - 1\n",
    "plt.scatter(X_test[:, 0], X_test[:, 1], s=70, c=y_test, cmap=plt.cm.Paired)\n",
    "plt.xlabel(\"X1\")\n",
    "plt.ylabel(\"X2\")"
   ]
  },
  {
   "cell_type": "code",
   "execution_count": null,
   "metadata": {},
   "outputs": [],
   "source": [
    "svc4 = SVC(C=10.0, kernel=\"linear\")\n",
    "svc4.fit(X_test, y_test)"
   ]
  },
  {
   "cell_type": "code",
   "execution_count": null,
   "metadata": {},
   "outputs": [],
   "source": [
    "plot_svc(svc4, X_test, y_test)"
   ]
  },
  {
   "cell_type": "code",
   "execution_count": null,
   "metadata": {},
   "outputs": [],
   "source": [
    "# Increase the margin. Now there is one misclassification: increased bias, lower variance.\n",
    "svc5 = SVC(C=1, kernel=\"linear\")\n",
    "svc5.fit(X_test, y_test)"
   ]
  },
  {
   "cell_type": "code",
   "execution_count": null,
   "metadata": {},
   "outputs": [],
   "source": [
    "plot_svc(svc5, X_test, y_test)"
   ]
  },
  {
   "cell_type": "markdown",
   "metadata": {},
   "source": [
    "### 9.6.2 Support Vector Machine "
   ]
  },
  {
   "cell_type": "code",
   "execution_count": null,
   "metadata": {},
   "outputs": [],
   "source": [
    "# Generating test data\n",
    "np.random.seed(8)\n",
    "X = np.random.randn(200, 2)\n",
    "X[:100] = X[:100] + 2\n",
    "X[101:150] = X[101:150] - 2\n",
    "y = np.concatenate([np.repeat(-1, 150), np.repeat(1, 50)])\n",
    "\n",
    "X_train, X_test, y_train, y_test = train_test_split(X, y, test_size=0.5, random_state=2)\n",
    "\n",
    "plt.scatter(X[:, 0], X[:, 1], s=70, c=y, cmap=plt.cm.Paired)\n",
    "plt.xlabel(\"X1\")\n",
    "plt.ylabel(\"X2\");"
   ]
  },
  {
   "cell_type": "code",
   "execution_count": null,
   "metadata": {},
   "outputs": [],
   "source": [
    "svm = SVC(C=1.0, kernel=\"rbf\", gamma=1)\n",
    "svm.fit(X_train, y_train)"
   ]
  },
  {
   "cell_type": "code",
   "execution_count": null,
   "metadata": {},
   "outputs": [],
   "source": [
    "plot_svc(svm, X_train, y_train)"
   ]
  },
  {
   "cell_type": "code",
   "execution_count": null,
   "metadata": {},
   "outputs": [],
   "source": [
    "# Increasing C parameter, allowing more flexibility\n",
    "svm2 = SVC(C=100, kernel=\"rbf\", gamma=1.0)\n",
    "svm2.fit(X_train, y_train)"
   ]
  },
  {
   "cell_type": "code",
   "execution_count": null,
   "metadata": {},
   "outputs": [],
   "source": [
    "plot_svc(svm2, X_train, y_train)"
   ]
  },
  {
   "cell_type": "code",
   "execution_count": null,
   "metadata": {},
   "outputs": [],
   "source": [
    "# Set the parameters by cross-validation\n",
    "tuned_parameters = [{\"C\": [0.01, 0.1, 1, 10, 100], \"gamma\": [0.5, 1, 2, 3, 4]}]\n",
    "clf = GridSearchCV(\n",
    "    SVC(kernel=\"rbf\"),\n",
    "    tuned_parameters,\n",
    "    cv=10,\n",
    "    scoring=\"accuracy\",\n",
    "    return_train_score=True,\n",
    ")\n",
    "clf.fit(X_train, y_train)\n",
    "clf.cv_results_"
   ]
  },
  {
   "cell_type": "code",
   "execution_count": null,
   "metadata": {},
   "outputs": [],
   "source": [
    "clf.best_params_"
   ]
  },
  {
   "cell_type": "code",
   "execution_count": null,
   "metadata": {},
   "outputs": [],
   "source": [
    "confusion_matrix(y_test, clf.best_estimator_.predict(X_test))"
   ]
  },
  {
   "cell_type": "code",
   "execution_count": null,
   "metadata": {},
   "outputs": [],
   "source": [
    "# 15% of test observations misclassified\n",
    "clf.best_estimator_.score(X_test, y_test)"
   ]
  },
  {
   "cell_type": "markdown",
   "metadata": {},
   "source": [
    "### 9.6.3 ROC Curves"
   ]
  },
  {
   "cell_type": "markdown",
   "metadata": {},
   "source": [
    "Comparing the ROC curves of two models on train/test data. One model is more flexible than the other."
   ]
  },
  {
   "cell_type": "code",
   "execution_count": null,
   "metadata": {},
   "outputs": [],
   "source": [
    "svm3 = SVC(C=1, kernel=\"rbf\", gamma=2)\n",
    "svm3.fit(X_train, y_train)"
   ]
  },
  {
   "cell_type": "code",
   "execution_count": null,
   "metadata": {},
   "outputs": [],
   "source": [
    "# More flexible model\n",
    "svm4 = SVC(C=1, kernel=\"rbf\", gamma=50)\n",
    "svm4.fit(X_train, y_train)"
   ]
  },
  {
   "cell_type": "code",
   "execution_count": null,
   "metadata": {},
   "outputs": [],
   "source": [
    "y_train_score3 = svm3.decision_function(X_train)\n",
    "y_train_score4 = svm4.decision_function(X_train)\n",
    "\n",
    "false_pos_rate3, true_pos_rate3, _ = roc_curve(y_train, y_train_score3)\n",
    "roc_auc3 = auc(false_pos_rate3, true_pos_rate3)\n",
    "\n",
    "false_pos_rate4, true_pos_rate4, _ = roc_curve(y_train, y_train_score4)\n",
    "roc_auc4 = auc(false_pos_rate4, true_pos_rate4)\n",
    "\n",
    "fig, (ax1, ax2) = plt.subplots(1, 2, figsize=(14, 6))\n",
    "ax1.plot(\n",
    "    false_pos_rate3,\n",
    "    true_pos_rate3,\n",
    "    label=\"SVM $\\gamma = 1$ ROC curve (area = %0.2f)\" % roc_auc3,\n",
    "    color=\"b\",\n",
    ")\n",
    "ax1.plot(\n",
    "    false_pos_rate4,\n",
    "    true_pos_rate4,\n",
    "    label=\"SVM $\\gamma = 50$ ROC curve (area = %0.2f)\" % roc_auc4,\n",
    "    color=\"r\",\n",
    ")\n",
    "ax1.set_title(\"Training Data\")\n",
    "\n",
    "y_test_score3 = svm3.decision_function(X_test)\n",
    "y_test_score4 = svm4.decision_function(X_test)\n",
    "\n",
    "false_pos_rate3, true_pos_rate3, _ = roc_curve(y_test, y_test_score3)\n",
    "roc_auc3 = auc(false_pos_rate3, true_pos_rate3)\n",
    "\n",
    "false_pos_rate4, true_pos_rate4, _ = roc_curve(y_test, y_test_score4)\n",
    "roc_auc4 = auc(false_pos_rate4, true_pos_rate4)\n",
    "\n",
    "ax2.plot(\n",
    "    false_pos_rate3,\n",
    "    true_pos_rate3,\n",
    "    label=\"SVM $\\gamma = 1$ ROC curve (area = %0.2f)\" % roc_auc3,\n",
    "    color=\"b\",\n",
    ")\n",
    "ax2.plot(\n",
    "    false_pos_rate4,\n",
    "    true_pos_rate4,\n",
    "    label=\"SVM $\\gamma = 50$ ROC curve (area = %0.2f)\" % roc_auc4,\n",
    "    color=\"r\",\n",
    ")\n",
    "ax2.set_title(\"Test Data\")\n",
    "\n",
    "for ax in fig.axes:\n",
    "    ax.plot([0, 1], [0, 1], \"k--\")\n",
    "    ax.set_xlim([-0.05, 1.0])\n",
    "    ax.set_ylim([0.0, 1.05])\n",
    "    ax.set_xlabel(\"False Positive Rate\")\n",
    "    ax.set_ylabel(\"True Positive Rate\")\n",
    "    ax.legend(loc=\"lower right\")"
   ]
  },
  {
   "cell_type": "markdown",
   "metadata": {},
   "source": [
    "As expected, the more flexible model scores better on training data but worse on the test data."
   ]
  },
  {
   "cell_type": "markdown",
   "metadata": {},
   "source": [
    "### 9.6.4 SVM with Multiple Classes"
   ]
  },
  {
   "cell_type": "code",
   "execution_count": null,
   "metadata": {},
   "outputs": [],
   "source": [
    "# Adding a third class of observations\n",
    "np.random.seed(8)\n",
    "XX = np.vstack([X, np.random.randn(50, 2)])\n",
    "yy = np.hstack([y, np.repeat(0, 50)])\n",
    "XX[yy == 0] = XX[yy == 0] + 4\n",
    "\n",
    "plt.scatter(XX[:, 0], XX[:, 1], s=70, c=yy, cmap=plt.cm.prism)\n",
    "plt.xlabel(\"XX1\")\n",
    "plt.ylabel(\"XX2\");"
   ]
  },
  {
   "cell_type": "code",
   "execution_count": null,
   "metadata": {},
   "outputs": [],
   "source": [
    "svm5 = SVC(C=1, kernel=\"rbf\")\n",
    "svm5.fit(XX, yy)"
   ]
  },
  {
   "cell_type": "code",
   "execution_count": null,
   "metadata": {},
   "outputs": [],
   "source": [
    "plot_svc(svm5, XX, yy)"
   ]
  },
  {
   "cell_type": "markdown",
   "metadata": {},
   "source": [
    "### 9.6.5 Application to Gene Expression Data"
   ]
  },
  {
   "cell_type": "markdown",
   "metadata": {},
   "source": [
    "In R, I exported the dataset from package 'ISLR' to csv files."
   ]
  },
  {
   "cell_type": "code",
   "execution_count": null,
   "metadata": {},
   "outputs": [],
   "source": [
    "# X_train = pd.read_csv(\"Data/Khan_xtrain.csv\").drop(\"Unnamed: 0\", axis=1)\n",
    "# y_train = (\n",
    "#     pd.read_csv(\"Data/Khan_ytrain.csv\").drop(\"Unnamed: 0\", axis=1).as_matrix().ravel()\n",
    "# )\n",
    "# X_test = pd.read_csv(\"Data/Khan_xtest.csv\").drop(\"Unnamed: 0\", axis=1)\n",
    "# y_test = (\n",
    "#     pd.read_csv(\"Data/Khan_ytest.csv\").drop(\"Unnamed: 0\", axis=1).as_matrix().ravel()\n",
    "# )"
   ]
  },
  {
   "cell_type": "code",
   "execution_count": null,
   "metadata": {},
   "outputs": [],
   "source": [
    "# y_train counts\n",
    "# pd.Series(y_train).value_counts(sort=False)"
   ]
  },
  {
   "cell_type": "code",
   "execution_count": null,
   "metadata": {},
   "outputs": [],
   "source": [
    "# y_test counts\n",
    "# pd.Series(y_test).value_counts(sort=False)"
   ]
  },
  {
   "cell_type": "code",
   "execution_count": null,
   "metadata": {},
   "outputs": [],
   "source": [
    "# This model gives identical results to the svm() of the R package e1071, also based on libsvm library.\n",
    "# svc = SVC(kernel=\"linear\")\n",
    "\n",
    "# # This model is based on liblinear library and gives 100 score on the test data.\n",
    "# # svc = LinearSVC()\n",
    "\n",
    "# svc.fit(X_train, y_train)"
   ]
  },
  {
   "cell_type": "code",
   "execution_count": null,
   "metadata": {},
   "outputs": [],
   "source": [
    "# cm = confusion_matrix(y_train, svc.predict(X_train))\n",
    "# cm_df = pd.DataFrame(cm.T, index=svc.classes_, columns=svc.classes_)\n",
    "# cm_df.index.name = \"Predicted\"\n",
    "# cm_df.columns.name = \"True\"\n",
    "# print(cm_df)"
   ]
  },
  {
   "cell_type": "code",
   "execution_count": null,
   "metadata": {},
   "outputs": [],
   "source": [
    "# cm = confusion_matrix(y_test, svc.predict(X_test))\n",
    "# cm_df = pd.DataFrame(cm.T, index=svc.classes_, columns=svc.classes_)\n",
    "# cm_df.index.name = \"Predicted\"\n",
    "# cm_df.columns.name = \"True\"\n",
    "# print(cm_df)"
   ]
  }
 ],
 "metadata": {
  "kernelspec": {
   "display_name": "Python 3.9.7 ('pykale')",
   "language": "python",
   "name": "python3"
  }
 },
 "nbformat": 4,
 "nbformat_minor": 1
}
